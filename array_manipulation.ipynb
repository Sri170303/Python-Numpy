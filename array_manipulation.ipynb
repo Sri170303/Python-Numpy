{
 "cells": [
  {
   "cell_type": "code",
   "execution_count": 1,
   "id": "f6f3d19f-5ff4-4524-b753-bcf4e11509a0",
   "metadata": {},
   "outputs": [],
   "source": [
    "import numpy as np"
   ]
  },
  {
   "cell_type": "code",
   "execution_count": 2,
   "id": "5ac31e1e-b3ae-42f3-bc57-6f659ddaab25",
   "metadata": {},
   "outputs": [],
   "source": [
    "arr1 = np.random.randint(1, 10, (3, 5))"
   ]
  },
  {
   "cell_type": "code",
   "execution_count": 3,
   "id": "6a0cda03-ed5f-4f07-88ac-dd410f8eac55",
   "metadata": {},
   "outputs": [
    {
     "data": {
      "text/plain": [
       "array([[9, 7, 9, 8, 7],\n",
       "       [7, 2, 7, 8, 6],\n",
       "       [5, 1, 5, 7, 8]])"
      ]
     },
     "execution_count": 3,
     "metadata": {},
     "output_type": "execute_result"
    }
   ],
   "source": [
    "arr1"
   ]
  },
  {
   "cell_type": "code",
   "execution_count": 4,
   "id": "7904f273-dc3f-456c-b26f-dea5c4e490a4",
   "metadata": {},
   "outputs": [
    {
     "data": {
      "text/plain": [
       "array([[9, 7, 9],\n",
       "       [8, 7, 7],\n",
       "       [2, 7, 8],\n",
       "       [6, 5, 1],\n",
       "       [5, 7, 8]])"
      ]
     },
     "execution_count": 4,
     "metadata": {},
     "output_type": "execute_result"
    }
   ],
   "source": [
    "arr1.reshape((5, -1))"
   ]
  },
  {
   "cell_type": "code",
   "execution_count": 5,
   "id": "91d176ca-5819-49fc-9104-3b197594b2a2",
   "metadata": {},
   "outputs": [
    {
     "data": {
      "text/plain": [
       "array([[9, 7, 5],\n",
       "       [7, 2, 1],\n",
       "       [9, 7, 5],\n",
       "       [8, 8, 7],\n",
       "       [7, 6, 8]])"
      ]
     },
     "execution_count": 5,
     "metadata": {},
     "output_type": "execute_result"
    }
   ],
   "source": [
    "arr1.T"
   ]
  },
  {
   "cell_type": "code",
   "execution_count": 6,
   "id": "f7eac962-310a-4608-ba5c-0fc14d715fe3",
   "metadata": {},
   "outputs": [
    {
     "data": {
      "text/plain": [
       "array([9, 7, 9, 8, 7, 7, 2, 7, 8, 6, 5, 1, 5, 7, 8])"
      ]
     },
     "execution_count": 6,
     "metadata": {},
     "output_type": "execute_result"
    }
   ],
   "source": [
    "arr1.flatten()"
   ]
  },
  {
   "cell_type": "code",
   "execution_count": 7,
   "id": "ddd8c0c1-4987-4121-9204-f09e982f1788",
   "metadata": {},
   "outputs": [
    {
     "data": {
      "text/plain": [
       "(3, 5)"
      ]
     },
     "execution_count": 7,
     "metadata": {},
     "output_type": "execute_result"
    }
   ],
   "source": [
    "arr1.shape"
   ]
  },
  {
   "cell_type": "code",
   "execution_count": 8,
   "id": "1d6555c2-3d58-4e49-be30-ea502b1f99ef",
   "metadata": {},
   "outputs": [
    {
     "data": {
      "text/plain": [
       "array([[[9, 7, 9, 8, 7]],\n",
       "\n",
       "       [[7, 2, 7, 8, 6]],\n",
       "\n",
       "       [[5, 1, 5, 7, 8]]])"
      ]
     },
     "execution_count": 8,
     "metadata": {},
     "output_type": "execute_result"
    }
   ],
   "source": [
    "np.expand_dims(arr1, axis = 1)"
   ]
  },
  {
   "cell_type": "code",
   "execution_count": 9,
   "id": "55f40e6a-96ee-45a0-864a-585f1f40268a",
   "metadata": {},
   "outputs": [
    {
     "data": {
      "text/plain": [
       "(3, 1, 5)"
      ]
     },
     "execution_count": 9,
     "metadata": {},
     "output_type": "execute_result"
    }
   ],
   "source": [
    "np.expand_dims(arr1, axis = 1).shape"
   ]
  },
  {
   "cell_type": "code",
   "execution_count": 10,
   "id": "ef69ed57-a0d4-4537-b38a-03cf4346bafb",
   "metadata": {},
   "outputs": [
    {
     "data": {
      "text/plain": [
       "array([[[9, 7, 9, 8, 7],\n",
       "        [7, 2, 7, 8, 6],\n",
       "        [5, 1, 5, 7, 8]]])"
      ]
     },
     "execution_count": 10,
     "metadata": {},
     "output_type": "execute_result"
    }
   ],
   "source": [
    "np.expand_dims(arr1, axis = 0)"
   ]
  },
  {
   "cell_type": "code",
   "execution_count": 11,
   "id": "4ab26f4a-e4bd-4024-8e10-c872ad2c2566",
   "metadata": {},
   "outputs": [
    {
     "data": {
      "text/plain": [
       "(1, 3, 5)"
      ]
     },
     "execution_count": 11,
     "metadata": {},
     "output_type": "execute_result"
    }
   ],
   "source": [
    "np.expand_dims(arr1, axis = 0).shape"
   ]
  },
  {
   "cell_type": "code",
   "execution_count": 12,
   "id": "630ebf4d-3660-4e91-8fb4-27ccd0c6cad7",
   "metadata": {},
   "outputs": [
    {
     "data": {
      "text/plain": [
       "array([[9, 7, 9, 8, 7],\n",
       "       [7, 2, 7, 8, 6],\n",
       "       [5, 1, 5, 7, 8]])"
      ]
     },
     "execution_count": 12,
     "metadata": {},
     "output_type": "execute_result"
    }
   ],
   "source": [
    "np.squeeze(arr1)"
   ]
  },
  {
   "cell_type": "code",
   "execution_count": 13,
   "id": "ba026cb2-b53f-4fa5-b8bb-b642ee094c25",
   "metadata": {},
   "outputs": [
    {
     "ename": "ValueError",
     "evalue": "setting an array element with a sequence. The requested array has an inhomogeneous shape after 1 dimensions. The detected shape was (3,) + inhomogeneous part.",
     "output_type": "error",
     "traceback": [
      "\u001b[0;31m---------------------------------------------------------------------------\u001b[0m",
      "\u001b[0;31mValueError\u001b[0m                                Traceback (most recent call last)",
      "Cell \u001b[0;32mIn[13], line 1\u001b[0m\n\u001b[0;32m----> 1\u001b[0m arr2 \u001b[38;5;241m=\u001b[39m \u001b[43mnp\u001b[49m\u001b[38;5;241;43m.\u001b[39;49m\u001b[43marray\u001b[49m\u001b[43m(\u001b[49m\u001b[43m[\u001b[49m\u001b[43m[\u001b[49m\u001b[38;5;241;43m1\u001b[39;49m\u001b[43m]\u001b[49m\u001b[43m,\u001b[49m\u001b[43m \u001b[49m\u001b[43m[\u001b[49m\u001b[38;5;241;43m2\u001b[39;49m\u001b[43m]\u001b[49m\u001b[43m,\u001b[49m\u001b[43m \u001b[49m\u001b[43m[\u001b[49m\u001b[38;5;241;43m3\u001b[39;49m\u001b[43m,\u001b[49m\u001b[43m \u001b[49m\u001b[38;5;241;43m4\u001b[39;49m\u001b[43m]\u001b[49m\u001b[43m]\u001b[49m\u001b[43m)\u001b[49m\n",
      "\u001b[0;31mValueError\u001b[0m: setting an array element with a sequence. The requested array has an inhomogeneous shape after 1 dimensions. The detected shape was (3,) + inhomogeneous part."
     ]
    }
   ],
   "source": [
    "arr2 = np.array([[1], [2], [3, 4]])"
   ]
  },
  {
   "cell_type": "code",
   "execution_count": 14,
   "id": "9df68e4b-ea1f-4cf4-9ea6-af85d2382cf1",
   "metadata": {},
   "outputs": [],
   "source": [
    "arr2 = np.array([[1], [2], [3]])"
   ]
  },
  {
   "cell_type": "code",
   "execution_count": 15,
   "id": "0c5d5906-6c15-4989-8e64-69e9edf3dfab",
   "metadata": {},
   "outputs": [
    {
     "data": {
      "text/plain": [
       "array([1, 2, 3])"
      ]
     },
     "execution_count": 15,
     "metadata": {},
     "output_type": "execute_result"
    }
   ],
   "source": [
    "np.squeeze(arr2)"
   ]
  },
  {
   "cell_type": "code",
   "execution_count": 16,
   "id": "b462655a-76b5-42c2-8521-c3de0c0123b7",
   "metadata": {},
   "outputs": [
    {
     "data": {
      "text/plain": [
       "array([1, 2, 3])"
      ]
     },
     "execution_count": 16,
     "metadata": {},
     "output_type": "execute_result"
    }
   ],
   "source": [
    "np.squeeze(arr2)"
   ]
  },
  {
   "cell_type": "code",
   "execution_count": 18,
   "id": "0a0efb91-5d17-4cd0-bea2-f8af2e27a87a",
   "metadata": {},
   "outputs": [
    {
     "data": {
      "text/plain": [
       "array([[9, 7, 9, 8, 7],\n",
       "       [7, 2, 7, 8, 6],\n",
       "       [5, 1, 5, 7, 8]])"
      ]
     },
     "execution_count": 18,
     "metadata": {},
     "output_type": "execute_result"
    }
   ],
   "source": [
    "arr1"
   ]
  },
  {
   "cell_type": "code",
   "execution_count": 17,
   "id": "4e6975f8-ac7c-4fcb-89a4-b6db083017b5",
   "metadata": {},
   "outputs": [
    {
     "data": {
      "text/plain": [
       "array([9, 9, 7, 7, 9, 9, 8, 8, 7, 7, 7, 7, 2, 2, 7, 7, 8, 8, 6, 6, 5, 5,\n",
       "       1, 1, 5, 5, 7, 7, 8, 8])"
      ]
     },
     "execution_count": 17,
     "metadata": {},
     "output_type": "execute_result"
    }
   ],
   "source": [
    "np.repeat(arr1, 2)"
   ]
  },
  {
   "cell_type": "code",
   "execution_count": 19,
   "id": "ef7a2e2b-23c3-44e0-82ab-d623c614c026",
   "metadata": {},
   "outputs": [
    {
     "data": {
      "text/plain": [
       "array([[9, 7, 9, 8, 7],\n",
       "       [7, 2, 7, 8, 6],\n",
       "       [5, 1, 5, 7, 8]])"
      ]
     },
     "execution_count": 19,
     "metadata": {},
     "output_type": "execute_result"
    }
   ],
   "source": [
    "arr1"
   ]
  },
  {
   "cell_type": "code",
   "execution_count": 20,
   "id": "8442d854-54f1-4e66-9bd1-be1811f09483",
   "metadata": {},
   "outputs": [
    {
     "data": {
      "text/plain": [
       "array([[7, 8, 9, 7, 9],\n",
       "       [8, 7, 7, 2, 7],\n",
       "       [8, 6, 5, 1, 5]])"
      ]
     },
     "execution_count": 20,
     "metadata": {},
     "output_type": "execute_result"
    }
   ],
   "source": [
    "np.roll(arr1, 2)"
   ]
  },
  {
   "cell_type": "code",
   "execution_count": 22,
   "id": "321d007f-60a8-4dc7-8f23-2d0ed9466d4b",
   "metadata": {},
   "outputs": [],
   "source": [
    "arr3 = np.array([1, 2, 3, 4])"
   ]
  },
  {
   "cell_type": "code",
   "execution_count": 23,
   "id": "e0129c2e-3fbe-4e01-a0d2-36b3e5f6f400",
   "metadata": {},
   "outputs": [
    {
     "data": {
      "text/plain": [
       "array([1, 2, 3, 4])"
      ]
     },
     "execution_count": 23,
     "metadata": {},
     "output_type": "execute_result"
    }
   ],
   "source": [
    "arr3"
   ]
  },
  {
   "cell_type": "code",
   "execution_count": 24,
   "id": "581996c4-c82e-4ed6-82ca-3312104b90f4",
   "metadata": {},
   "outputs": [
    {
     "data": {
      "text/plain": [
       "array([[1, 0, 0, 0],\n",
       "       [0, 2, 0, 0],\n",
       "       [0, 0, 3, 0],\n",
       "       [0, 0, 0, 4]])"
      ]
     },
     "execution_count": 24,
     "metadata": {},
     "output_type": "execute_result"
    }
   ],
   "source": [
    "np.diag(arr3)"
   ]
  },
  {
   "cell_type": "code",
   "execution_count": 27,
   "id": "63f83fdf-d55b-4a73-84dd-4e4c1d1b1179",
   "metadata": {},
   "outputs": [],
   "source": [
    "arr4 = np.random.randint(1, 10, (3, 3))"
   ]
  },
  {
   "cell_type": "code",
   "execution_count": 28,
   "id": "353678da-5315-4081-b912-8fd7c1dc7d61",
   "metadata": {},
   "outputs": [],
   "source": [
    "arr5 = np.random.randint(1, 10, (3, 3))"
   ]
  },
  {
   "cell_type": "code",
   "execution_count": 29,
   "id": "5dbca331-b717-4a45-a264-f3468c2b75b2",
   "metadata": {},
   "outputs": [
    {
     "data": {
      "text/plain": [
       "array([[3, 4, 8],\n",
       "       [5, 9, 5],\n",
       "       [7, 4, 3]])"
      ]
     },
     "execution_count": 29,
     "metadata": {},
     "output_type": "execute_result"
    }
   ],
   "source": [
    "arr4"
   ]
  },
  {
   "cell_type": "code",
   "execution_count": 30,
   "id": "1b0932e0-672d-4187-be43-c6d3b089f4ab",
   "metadata": {},
   "outputs": [
    {
     "data": {
      "text/plain": [
       "array([[6, 5, 3],\n",
       "       [7, 4, 6],\n",
       "       [7, 2, 6]])"
      ]
     },
     "execution_count": 30,
     "metadata": {},
     "output_type": "execute_result"
    }
   ],
   "source": [
    "arr5"
   ]
  },
  {
   "cell_type": "code",
   "execution_count": 31,
   "id": "25cf52db-f7c7-4ff3-9767-be230886241a",
   "metadata": {},
   "outputs": [
    {
     "data": {
      "text/plain": [
       "array([[ 9,  9, 11],\n",
       "       [12, 13, 11],\n",
       "       [14,  6,  9]])"
      ]
     },
     "execution_count": 31,
     "metadata": {},
     "output_type": "execute_result"
    }
   ],
   "source": [
    "arr4 + arr5"
   ]
  },
  {
   "cell_type": "code",
   "execution_count": 33,
   "id": "68cdf0af-8f34-450a-85b4-f1bee00d5778",
   "metadata": {},
   "outputs": [
    {
     "data": {
      "text/plain": [
       "array([[18, 20, 24],\n",
       "       [35, 36, 30],\n",
       "       [49,  8, 18]])"
      ]
     },
     "execution_count": 33,
     "metadata": {},
     "output_type": "execute_result"
    }
   ],
   "source": [
    "arr4 * arr5"
   ]
  },
  {
   "cell_type": "code",
   "execution_count": 34,
   "id": "1c955752-f136-4996-af99-3cde5a59d000",
   "metadata": {},
   "outputs": [
    {
     "data": {
      "text/plain": [
       "array([[-3, -1,  5],\n",
       "       [-2,  5, -1],\n",
       "       [ 0,  2, -3]])"
      ]
     },
     "execution_count": 34,
     "metadata": {},
     "output_type": "execute_result"
    }
   ],
   "source": [
    "arr4 - arr5"
   ]
  },
  {
   "cell_type": "code",
   "execution_count": 36,
   "id": "fd66dbff-0322-495e-95e6-c64157b9bdef",
   "metadata": {},
   "outputs": [
    {
     "data": {
      "text/plain": [
       "array([[3, 4, 2],\n",
       "       [5, 1, 5],\n",
       "       [0, 0, 3]])"
      ]
     },
     "execution_count": 36,
     "metadata": {},
     "output_type": "execute_result"
    }
   ],
   "source": [
    "arr4 % arr5"
   ]
  },
  {
   "cell_type": "code",
   "execution_count": 37,
   "id": "d2a5d34b-2098-4c3a-a60c-c6922dbf867b",
   "metadata": {},
   "outputs": [
    {
     "data": {
      "text/plain": [
       "array([[102,  47,  81],\n",
       "       [128,  71,  99],\n",
       "       [ 91,  57,  63]])"
      ]
     },
     "execution_count": 37,
     "metadata": {},
     "output_type": "execute_result"
    }
   ],
   "source": [
    "arr4 @ arr5"
   ]
  },
  {
   "cell_type": "code",
   "execution_count": 38,
   "id": "6ebcd4b1-68b4-46a9-ae84-34e064978e16",
   "metadata": {},
   "outputs": [
    {
     "data": {
      "text/plain": [
       "array([[ 5,  1, 11],\n",
       "       [ 2, 13,  3],\n",
       "       [ 0,  6,  5]])"
      ]
     },
     "execution_count": 38,
     "metadata": {},
     "output_type": "execute_result"
    }
   ],
   "source": [
    "arr4 ^ arr5"
   ]
  },
  {
   "cell_type": "code",
   "execution_count": 39,
   "id": "70b592ac-7476-4834-83ca-973f47a49e55",
   "metadata": {},
   "outputs": [
    {
     "data": {
      "text/plain": [
       "array([[   729,   1024,    512],\n",
       "       [ 78125,   6561,  15625],\n",
       "       [823543,     16,    729]])"
      ]
     },
     "execution_count": 39,
     "metadata": {},
     "output_type": "execute_result"
    }
   ],
   "source": [
    "arr4 ** arr5"
   ]
  },
  {
   "cell_type": "markdown",
   "id": "d6d60ab7-1581-412f-b399-94e375ee2d7d",
   "metadata": {},
   "source": [
    "~arr4"
   ]
  },
  {
   "cell_type": "code",
   "execution_count": 41,
   "id": "dcf75e12-0aa6-4d9e-b2cc-d6783028ad62",
   "metadata": {},
   "outputs": [
    {
     "data": {
      "text/plain": [
       "array([[2, 4, 0],\n",
       "       [5, 0, 4],\n",
       "       [7, 0, 2]])"
      ]
     },
     "execution_count": 41,
     "metadata": {},
     "output_type": "execute_result"
    }
   ],
   "source": [
    "arr4 & arr5"
   ]
  },
  {
   "cell_type": "code",
   "execution_count": 42,
   "id": "bb861bde-528c-4b4a-97bb-49cf712f7f9d",
   "metadata": {},
   "outputs": [
    {
     "data": {
      "text/plain": [
       "array([[ 7,  5, 11],\n",
       "       [ 7, 13,  7],\n",
       "       [ 7,  6,  7]])"
      ]
     },
     "execution_count": 42,
     "metadata": {},
     "output_type": "execute_result"
    }
   ],
   "source": [
    "arr4 | arr5"
   ]
  },
  {
   "cell_type": "markdown",
   "id": "249d9143-d086-4dd1-9591-e840b570e249",
   "metadata": {},
   "source": [
    "## Array of strings"
   ]
  },
  {
   "cell_type": "code",
   "execution_count": 44,
   "id": "3b12e3a2-f842-466d-a3a4-e774c8a2d8b9",
   "metadata": {},
   "outputs": [],
   "source": [
    "arr6 = np.array([\"Sri\", \"Darsan\", \"Sah\"])"
   ]
  },
  {
   "cell_type": "code",
   "execution_count": 45,
   "id": "177057cd-b19d-4d93-92f5-431609f41f8e",
   "metadata": {},
   "outputs": [
    {
     "data": {
      "text/plain": [
       "array(['Sri', 'Darsan', 'Sah'], dtype='<U6')"
      ]
     },
     "execution_count": 45,
     "metadata": {},
     "output_type": "execute_result"
    }
   ],
   "source": [
    "arr6"
   ]
  },
  {
   "cell_type": "code",
   "execution_count": 48,
   "id": "c7607e0a-0534-49cf-bcb9-668e63bbd2bb",
   "metadata": {},
   "outputs": [
    {
     "data": {
      "text/plain": [
       "array(['SRI', 'DARSAN', 'SAH'], dtype='<U6')"
      ]
     },
     "execution_count": 48,
     "metadata": {},
     "output_type": "execute_result"
    }
   ],
   "source": [
    "np.char.upper(arr6)"
   ]
  },
  {
   "cell_type": "code",
   "execution_count": 49,
   "id": "f5338919-1ceb-4e86-9c26-dcd9144032b8",
   "metadata": {},
   "outputs": [
    {
     "data": {
      "text/plain": [
       "array(['sri', 'darsan', 'sah'], dtype='<U6')"
      ]
     },
     "execution_count": 49,
     "metadata": {},
     "output_type": "execute_result"
    }
   ],
   "source": [
    "np.char.lower(arr6)"
   ]
  },
  {
   "cell_type": "markdown",
   "id": "d0d1f62f-ea3a-4a86-a274-3cc1331c7600",
   "metadata": {},
   "source": [
    "## Maths"
   ]
  },
  {
   "cell_type": "code",
   "execution_count": 50,
   "id": "b849ca87-8c03-4c09-8491-9aae2e635262",
   "metadata": {},
   "outputs": [
    {
     "data": {
      "text/plain": [
       "array([[3, 4, 8],\n",
       "       [5, 9, 5],\n",
       "       [7, 4, 3]])"
      ]
     },
     "execution_count": 50,
     "metadata": {},
     "output_type": "execute_result"
    }
   ],
   "source": [
    "arr4"
   ]
  },
  {
   "cell_type": "code",
   "execution_count": 51,
   "id": "9dc9ce63-830e-4a49-a394-f8d395e3cac5",
   "metadata": {},
   "outputs": [
    {
     "data": {
      "text/plain": [
       "array([[ 0.14112001, -0.7568025 ,  0.98935825],\n",
       "       [-0.95892427,  0.41211849, -0.95892427],\n",
       "       [ 0.6569866 , -0.7568025 ,  0.14112001]])"
      ]
     },
     "execution_count": 51,
     "metadata": {},
     "output_type": "execute_result"
    }
   ],
   "source": [
    "np.sin(arr4)"
   ]
  },
  {
   "cell_type": "code",
   "execution_count": 52,
   "id": "23ad2abd-a596-49c8-a2e3-67d31c9f0188",
   "metadata": {},
   "outputs": [
    {
     "data": {
      "text/plain": [
       "array([[0.99505475, 0.9993293 , 0.99999977],\n",
       "       [0.9999092 , 0.99999997, 0.9999092 ],\n",
       "       [0.99999834, 0.9993293 , 0.99505475]])"
      ]
     },
     "execution_count": 52,
     "metadata": {},
     "output_type": "execute_result"
    }
   ],
   "source": [
    "np.tanh(arr4)"
   ]
  },
  {
   "cell_type": "code",
   "execution_count": 54,
   "id": "369319d1-2938-4935-959c-e18205a79631",
   "metadata": {},
   "outputs": [
    {
     "data": {
      "text/plain": [
       "array([[0.47712125, 0.60205999, 0.90308999],\n",
       "       [0.69897   , 0.95424251, 0.69897   ],\n",
       "       [0.84509804, 0.60205999, 0.47712125]])"
      ]
     },
     "execution_count": 54,
     "metadata": {},
     "output_type": "execute_result"
    }
   ],
   "source": [
    "np.log10(arr4)"
   ]
  },
  {
   "cell_type": "code",
   "execution_count": 55,
   "id": "33833ba8-29f3-4f18-847d-669f849b7768",
   "metadata": {},
   "outputs": [
    {
     "data": {
      "text/plain": [
       "array([[  20.08553692,   54.59815003, 2980.95798704],\n",
       "       [ 148.4131591 , 8103.08392758,  148.4131591 ],\n",
       "       [1096.63315843,   54.59815003,   20.08553692]])"
      ]
     },
     "execution_count": 55,
     "metadata": {},
     "output_type": "execute_result"
    }
   ],
   "source": [
    "np.exp(arr4)"
   ]
  },
  {
   "cell_type": "code",
   "execution_count": 57,
   "id": "6fbdac99-00ec-4903-963c-248be962c2e8",
   "metadata": {},
   "outputs": [
    {
     "data": {
      "text/plain": [
       "array([[ 9, 16, 64],\n",
       "       [25, 81, 25],\n",
       "       [49, 16,  9]])"
      ]
     },
     "execution_count": 57,
     "metadata": {},
     "output_type": "execute_result"
    }
   ],
   "source": [
    "np.pow(arr4, 2)"
   ]
  },
  {
   "cell_type": "code",
   "execution_count": 58,
   "id": "2b733ea3-8252-4166-b4e9-905adc112a67",
   "metadata": {},
   "outputs": [
    {
     "data": {
      "text/plain": [
       "np.float64(5.333333333333333)"
      ]
     },
     "execution_count": 58,
     "metadata": {},
     "output_type": "execute_result"
    }
   ],
   "source": [
    "np.mean(arr4)"
   ]
  },
  {
   "cell_type": "code",
   "execution_count": 60,
   "id": "d3efa192-1f49-4739-8f89-bcc992085545",
   "metadata": {},
   "outputs": [
    {
     "data": {
      "text/plain": [
       "np.float64(5.0)"
      ]
     },
     "execution_count": 60,
     "metadata": {},
     "output_type": "execute_result"
    }
   ],
   "source": [
    "np.median(arr4)"
   ]
  },
  {
   "cell_type": "code",
   "execution_count": 61,
   "id": "f85ec958-0e74-4244-ac9d-8e1740734bf2",
   "metadata": {},
   "outputs": [
    {
     "data": {
      "text/plain": [
       "np.float64(2.0548046676563256)"
      ]
     },
     "execution_count": 61,
     "metadata": {},
     "output_type": "execute_result"
    }
   ],
   "source": [
    "np.std(arr4)"
   ]
  },
  {
   "cell_type": "code",
   "execution_count": null,
   "id": "23eda33d-4bfd-47f1-839c-96c644140663",
   "metadata": {},
   "outputs": [],
   "source": [
    "np"
   ]
  }
 ],
 "metadata": {
  "kernelspec": {
   "display_name": "Python 3 (ipykernel)",
   "language": "python",
   "name": "python3"
  },
  "language_info": {
   "codemirror_mode": {
    "name": "ipython",
    "version": 3
   },
   "file_extension": ".py",
   "mimetype": "text/x-python",
   "name": "python",
   "nbconvert_exporter": "python",
   "pygments_lexer": "ipython3",
   "version": "3.12.5"
  }
 },
 "nbformat": 4,
 "nbformat_minor": 5
}
