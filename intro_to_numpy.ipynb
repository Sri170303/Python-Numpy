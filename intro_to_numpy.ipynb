{
 "cells": [
  {
   "cell_type": "markdown",
   "id": "a7de0452-26ef-4f46-86d5-fe32a26cade5",
   "metadata": {},
   "source": [
    "# Numpy"
   ]
  },
  {
   "cell_type": "markdown",
   "id": "8748f904-8fd8-4de2-9e06-29b0149d1573",
   "metadata": {},
   "source": [
    "### METHODS TO CREATE ARRAYS"
   ]
  },
  {
   "cell_type": "code",
   "execution_count": 1,
   "id": "768ab072-b8a1-4822-8c9f-6af40ac8cea8",
   "metadata": {},
   "outputs": [],
   "source": [
    "import numpy as np"
   ]
  },
  {
   "cell_type": "code",
   "execution_count": 2,
   "id": "c0fac421-c392-4f5c-833f-ace5910d6c76",
   "metadata": {},
   "outputs": [],
   "source": [
    "l = [1, 2, 3, 4]"
   ]
  },
  {
   "cell_type": "code",
   "execution_count": 3,
   "id": "b2f44784-da83-4df5-ae8b-502a69f0a8c9",
   "metadata": {},
   "outputs": [],
   "source": [
    "arr = np.array(l)"
   ]
  },
  {
   "cell_type": "code",
   "execution_count": 4,
   "id": "3da0be48-9330-4d11-a9f9-2db4fa750585",
   "metadata": {},
   "outputs": [
    {
     "data": {
      "text/plain": [
       "array([1, 2, 3, 4])"
      ]
     },
     "execution_count": 4,
     "metadata": {},
     "output_type": "execute_result"
    }
   ],
   "source": [
    "arr"
   ]
  },
  {
   "cell_type": "code",
   "execution_count": 5,
   "id": "b919a10c-fb80-481f-a6bc-b42a8ba2f38d",
   "metadata": {},
   "outputs": [
    {
     "data": {
      "text/plain": [
       "numpy.ndarray"
      ]
     },
     "execution_count": 5,
     "metadata": {},
     "output_type": "execute_result"
    }
   ],
   "source": [
    "type(arr)"
   ]
  },
  {
   "cell_type": "code",
   "execution_count": 6,
   "id": "1d02668d-23b6-4467-bd90-f3a7b24030da",
   "metadata": {},
   "outputs": [],
   "source": [
    "arr1 = np.array([[1, 2], [3, 4]])"
   ]
  },
  {
   "cell_type": "code",
   "execution_count": 7,
   "id": "a785f567-eb4d-4d58-8239-a9c31276fbdb",
   "metadata": {},
   "outputs": [
    {
     "data": {
      "text/plain": [
       "array([[1, 2],\n",
       "       [3, 4]])"
      ]
     },
     "execution_count": 7,
     "metadata": {},
     "output_type": "execute_result"
    }
   ],
   "source": [
    "arr1"
   ]
  },
  {
   "cell_type": "code",
   "execution_count": 8,
   "id": "e4313a43-db79-4c39-8617-28b7a9507cbb",
   "metadata": {},
   "outputs": [],
   "source": [
    "arr2 = np.array([[[1, 2, 3], [11, 12, 13]],[[4, 5, 6], [44, 55, 66]], [[7, 8, 9], [77, 88, 99]]])"
   ]
  },
  {
   "cell_type": "code",
   "execution_count": 9,
   "id": "f1d3cd3d-ff71-47d9-9bdd-7a5a26020f5b",
   "metadata": {},
   "outputs": [
    {
     "data": {
      "text/plain": [
       "array([[[ 1,  2,  3],\n",
       "        [11, 12, 13]],\n",
       "\n",
       "       [[ 4,  5,  6],\n",
       "        [44, 55, 66]],\n",
       "\n",
       "       [[ 7,  8,  9],\n",
       "        [77, 88, 99]]])"
      ]
     },
     "execution_count": 9,
     "metadata": {},
     "output_type": "execute_result"
    }
   ],
   "source": [
    "arr2"
   ]
  },
  {
   "cell_type": "code",
   "execution_count": 10,
   "id": "c561469f-fe40-465f-ab5e-2f398ed8e0df",
   "metadata": {},
   "outputs": [],
   "source": [
    "arr3 = np.asarray([1, 2, 3])"
   ]
  },
  {
   "cell_type": "code",
   "execution_count": 11,
   "id": "78f68d16-4a61-40a4-a49b-790f258a8ef4",
   "metadata": {},
   "outputs": [
    {
     "data": {
      "text/plain": [
       "array([1, 2, 3])"
      ]
     },
     "execution_count": 11,
     "metadata": {},
     "output_type": "execute_result"
    }
   ],
   "source": [
    "arr3"
   ]
  },
  {
   "cell_type": "code",
   "execution_count": 12,
   "id": "1aafd293-9d7a-46a7-b558-0511b1a91adf",
   "metadata": {},
   "outputs": [],
   "source": [
    "arr4 = np.asanyarray([1, 2, 3])"
   ]
  },
  {
   "cell_type": "code",
   "execution_count": 13,
   "id": "f178f379-8062-4d7e-8e15-bfc6c088f4b1",
   "metadata": {},
   "outputs": [
    {
     "data": {
      "text/plain": [
       "array([1, 2, 3])"
      ]
     },
     "execution_count": 13,
     "metadata": {},
     "output_type": "execute_result"
    }
   ],
   "source": [
    "arr4"
   ]
  },
  {
   "cell_type": "code",
   "execution_count": 14,
   "id": "7e433676-db7a-41da-93a2-2399d85b2d56",
   "metadata": {},
   "outputs": [],
   "source": [
    "mat1 = np.matrix([[1, 2, 3, 4], [11, 12, 13, 14]])"
   ]
  },
  {
   "cell_type": "code",
   "execution_count": 15,
   "id": "7fbf83ca-fc71-4855-8658-0a1b4d091c0b",
   "metadata": {},
   "outputs": [
    {
     "data": {
      "text/plain": [
       "matrix([[ 1,  2,  3,  4],\n",
       "        [11, 12, 13, 14]])"
      ]
     },
     "execution_count": 15,
     "metadata": {},
     "output_type": "execute_result"
    }
   ],
   "source": [
    "mat1"
   ]
  },
  {
   "cell_type": "code",
   "execution_count": 16,
   "id": "fa6660a1-f6df-45ab-a79b-b58fb75239df",
   "metadata": {},
   "outputs": [
    {
     "data": {
      "text/plain": [
       "2"
      ]
     },
     "execution_count": 16,
     "metadata": {},
     "output_type": "execute_result"
    }
   ],
   "source": [
    "mat1.ndim"
   ]
  },
  {
   "cell_type": "code",
   "execution_count": 17,
   "id": "b953ce9d-67ae-4c45-b619-b7148d0b84f9",
   "metadata": {},
   "outputs": [
    {
     "data": {
      "text/plain": [
       "2"
      ]
     },
     "execution_count": 17,
     "metadata": {},
     "output_type": "execute_result"
    }
   ],
   "source": [
    "arr1.ndim"
   ]
  },
  {
   "cell_type": "code",
   "execution_count": 18,
   "id": "031baebe-99b7-4823-8f13-7b616dcacb5f",
   "metadata": {},
   "outputs": [
    {
     "data": {
      "text/plain": [
       "1"
      ]
     },
     "execution_count": 18,
     "metadata": {},
     "output_type": "execute_result"
    }
   ],
   "source": [
    "arr.ndim"
   ]
  },
  {
   "cell_type": "code",
   "execution_count": 19,
   "id": "3e99399b-7c08-453b-a1d1-53420bd0dc3d",
   "metadata": {},
   "outputs": [
    {
     "data": {
      "text/plain": [
       "3"
      ]
     },
     "execution_count": 19,
     "metadata": {},
     "output_type": "execute_result"
    }
   ],
   "source": [
    "arr2.ndim"
   ]
  },
  {
   "cell_type": "code",
   "execution_count": 20,
   "id": "1e03a107-f86f-408f-af3d-c973503eb2fc",
   "metadata": {},
   "outputs": [],
   "source": [
    "mat2 = np.asanyarray(mat1)"
   ]
  },
  {
   "cell_type": "code",
   "execution_count": 21,
   "id": "b500d568-6b32-4fe3-9ae7-080105545b0c",
   "metadata": {},
   "outputs": [
    {
     "data": {
      "text/plain": [
       "matrix([[ 1,  2,  3,  4],\n",
       "        [11, 12, 13, 14]])"
      ]
     },
     "execution_count": 21,
     "metadata": {},
     "output_type": "execute_result"
    }
   ],
   "source": [
    "mat2"
   ]
  },
  {
   "cell_type": "code",
   "execution_count": 22,
   "id": "531f7c48-d60d-470f-b957-cc179a648d4f",
   "metadata": {},
   "outputs": [
    {
     "data": {
      "text/plain": [
       "[1, 2, 3, 4]"
      ]
     },
     "execution_count": 22,
     "metadata": {},
     "output_type": "execute_result"
    }
   ],
   "source": [
    "l"
   ]
  },
  {
   "cell_type": "code",
   "execution_count": 24,
   "id": "4f57c1c1-332d-4600-87ec-e2b922c78c86",
   "metadata": {},
   "outputs": [],
   "source": [
    "arr5 = np.asanyarray(l)"
   ]
  },
  {
   "cell_type": "code",
   "execution_count": 25,
   "id": "f09fffd2-32cf-47c2-a694-7699fa86815a",
   "metadata": {},
   "outputs": [
    {
     "data": {
      "text/plain": [
       "array([1, 2, 3, 4])"
      ]
     },
     "execution_count": 25,
     "metadata": {},
     "output_type": "execute_result"
    }
   ],
   "source": [
    "arr5"
   ]
  },
  {
   "cell_type": "markdown",
   "id": "3bc4e7ff-b2d5-4b9e-ab95-04314e76be88",
   "metadata": {},
   "source": [
    "## CREATING COPIES"
   ]
  },
  {
   "cell_type": "code",
   "execution_count": 26,
   "id": "14be3baf-ea99-4d96-9903-76feb77827ef",
   "metadata": {},
   "outputs": [
    {
     "data": {
      "text/plain": [
       "array([[1, 2],\n",
       "       [3, 4]])"
      ]
     },
     "execution_count": 26,
     "metadata": {},
     "output_type": "execute_result"
    }
   ],
   "source": [
    "arr1"
   ]
  },
  {
   "cell_type": "code",
   "execution_count": 27,
   "id": "bb48d4de-504c-4a7e-b243-1c1f68ef0c2d",
   "metadata": {},
   "outputs": [],
   "source": [
    "arr1_cpy = arr1"
   ]
  },
  {
   "cell_type": "code",
   "execution_count": 28,
   "id": "6ee3a4ff-a719-48a3-8d9e-f9a42776f2d9",
   "metadata": {},
   "outputs": [],
   "source": [
    "arr1[0][0] = 11"
   ]
  },
  {
   "cell_type": "code",
   "execution_count": 29,
   "id": "e9f8ed89-dda1-4981-bbef-d578ca4f1a07",
   "metadata": {},
   "outputs": [
    {
     "data": {
      "text/plain": [
       "array([[11,  2],\n",
       "       [ 3,  4]])"
      ]
     },
     "execution_count": 29,
     "metadata": {},
     "output_type": "execute_result"
    }
   ],
   "source": [
    "arr1"
   ]
  },
  {
   "cell_type": "code",
   "execution_count": 30,
   "id": "7ad79376-cc8c-4f3a-bfdf-ee2e6d383448",
   "metadata": {},
   "outputs": [
    {
     "data": {
      "text/plain": [
       "array([[11,  2],\n",
       "       [ 3,  4]])"
      ]
     },
     "execution_count": 30,
     "metadata": {},
     "output_type": "execute_result"
    }
   ],
   "source": [
    "arr1_cpy"
   ]
  },
  {
   "cell_type": "code",
   "execution_count": 31,
   "id": "a9574efa-b2a3-4371-acf2-55eacd8738cf",
   "metadata": {},
   "outputs": [],
   "source": [
    "arr2_cpy = np.copy(arr2)"
   ]
  },
  {
   "cell_type": "code",
   "execution_count": 32,
   "id": "b8ae4218-56d9-48f7-854c-30009014da71",
   "metadata": {},
   "outputs": [
    {
     "data": {
      "text/plain": [
       "array([[[ 1,  2,  3],\n",
       "        [11, 12, 13]],\n",
       "\n",
       "       [[ 4,  5,  6],\n",
       "        [44, 55, 66]],\n",
       "\n",
       "       [[ 7,  8,  9],\n",
       "        [77, 88, 99]]])"
      ]
     },
     "execution_count": 32,
     "metadata": {},
     "output_type": "execute_result"
    }
   ],
   "source": [
    "arr2"
   ]
  },
  {
   "cell_type": "code",
   "execution_count": 33,
   "id": "6b51e0ca-6728-40a1-b79d-9d5627ba1c9a",
   "metadata": {},
   "outputs": [],
   "source": [
    "arr2[0][0][0] = 1111"
   ]
  },
  {
   "cell_type": "code",
   "execution_count": 34,
   "id": "3652825f-633e-445f-8474-913102f387fb",
   "metadata": {},
   "outputs": [
    {
     "data": {
      "text/plain": [
       "array([[[1111,    2,    3],\n",
       "        [  11,   12,   13]],\n",
       "\n",
       "       [[   4,    5,    6],\n",
       "        [  44,   55,   66]],\n",
       "\n",
       "       [[   7,    8,    9],\n",
       "        [  77,   88,   99]]])"
      ]
     },
     "execution_count": 34,
     "metadata": {},
     "output_type": "execute_result"
    }
   ],
   "source": [
    "arr2"
   ]
  },
  {
   "cell_type": "code",
   "execution_count": 35,
   "id": "dd3b9965-8264-4c38-bfc7-84ab97c57f3c",
   "metadata": {},
   "outputs": [
    {
     "data": {
      "text/plain": [
       "array([[[ 1,  2,  3],\n",
       "        [11, 12, 13]],\n",
       "\n",
       "       [[ 4,  5,  6],\n",
       "        [44, 55, 66]],\n",
       "\n",
       "       [[ 7,  8,  9],\n",
       "        [77, 88, 99]]])"
      ]
     },
     "execution_count": 35,
     "metadata": {},
     "output_type": "execute_result"
    }
   ],
   "source": [
    "arr2_cpy"
   ]
  },
  {
   "cell_type": "markdown",
   "id": "3087a562-70bf-4b50-90d3-aa91f45db2ae",
   "metadata": {},
   "source": [
    "## GENERATING ARRAYS"
   ]
  },
  {
   "cell_type": "code",
   "execution_count": 36,
   "id": "1dfe01f1-e1b0-4c94-b822-a6c615c05051",
   "metadata": {},
   "outputs": [],
   "source": [
    "arr6 = np.fromfunction(lambda i,j: i == j, (3, 4))"
   ]
  },
  {
   "cell_type": "code",
   "execution_count": 37,
   "id": "866417f1-a8d4-4277-bb48-e078047abee9",
   "metadata": {},
   "outputs": [
    {
     "data": {
      "text/plain": [
       "array([[ True, False, False, False],\n",
       "       [False,  True, False, False],\n",
       "       [False, False,  True, False]])"
      ]
     },
     "execution_count": 37,
     "metadata": {},
     "output_type": "execute_result"
    }
   ],
   "source": [
    "arr6"
   ]
  },
  {
   "cell_type": "code",
   "execution_count": 38,
   "id": "38a61865-36cb-4641-a0dc-c3d857cd158b",
   "metadata": {},
   "outputs": [],
   "source": [
    "arr7 = np.fromfunction(lambda i,j: i * j, (3, 4))"
   ]
  },
  {
   "cell_type": "code",
   "execution_count": 39,
   "id": "d9eabbaa-7ab6-46e4-b907-ca46dd32fd09",
   "metadata": {},
   "outputs": [
    {
     "data": {
      "text/plain": [
       "array([[0., 0., 0., 0.],\n",
       "       [0., 1., 2., 3.],\n",
       "       [0., 2., 4., 6.]])"
      ]
     },
     "execution_count": 39,
     "metadata": {},
     "output_type": "execute_result"
    }
   ],
   "source": [
    "arr7"
   ]
  },
  {
   "cell_type": "code",
   "execution_count": 41,
   "id": "457cbd15-eddb-480e-9071-0f702808c42b",
   "metadata": {},
   "outputs": [],
   "source": [
    "itr1 = [i for i in range(5)]"
   ]
  },
  {
   "cell_type": "code",
   "execution_count": 42,
   "id": "ed527670-e139-43a4-8883-cb9a17746f10",
   "metadata": {},
   "outputs": [
    {
     "data": {
      "text/plain": [
       "[0, 1, 2, 3, 4]"
      ]
     },
     "execution_count": 42,
     "metadata": {},
     "output_type": "execute_result"
    }
   ],
   "source": [
    "itr1 "
   ]
  },
  {
   "cell_type": "code",
   "execution_count": 44,
   "id": "89d1cbb3-2b09-406e-8780-b9c2379f8f27",
   "metadata": {},
   "outputs": [
    {
     "data": {
      "text/plain": [
       "array([0., 1., 2., 3., 4.])"
      ]
     },
     "execution_count": 44,
     "metadata": {},
     "output_type": "execute_result"
    }
   ],
   "source": [
    "np.fromiter(itr1, float)"
   ]
  },
  {
   "cell_type": "code",
   "execution_count": 45,
   "id": "4d6e8105-17d3-430d-8a09-194c1727f5d6",
   "metadata": {},
   "outputs": [
    {
     "data": {
      "text/plain": [
       "array([11., 12., 13., 14., 15.])"
      ]
     },
     "execution_count": 45,
     "metadata": {},
     "output_type": "execute_result"
    }
   ],
   "source": [
    "np.fromstring(\"11,12,13,14,15\",sep=\",\")"
   ]
  },
  {
   "cell_type": "markdown",
   "id": "f98e385b-95ab-4b26-9877-3a9cc78f3f0c",
   "metadata": {},
   "source": [
    "## SIZE, DIMENSION AND SHAPE"
   ]
  },
  {
   "cell_type": "code",
   "execution_count": 47,
   "id": "a1d9bf82-ff1f-4aba-a420-0e152a23e902",
   "metadata": {},
   "outputs": [
    {
     "data": {
      "text/plain": [
       "array([1, 2, 3, 4])"
      ]
     },
     "execution_count": 47,
     "metadata": {},
     "output_type": "execute_result"
    }
   ],
   "source": [
    "arr"
   ]
  },
  {
   "cell_type": "code",
   "execution_count": 48,
   "id": "843fc501-4da2-4698-8afa-7ce230bf6780",
   "metadata": {},
   "outputs": [
    {
     "data": {
      "text/plain": [
       "1"
      ]
     },
     "execution_count": 48,
     "metadata": {},
     "output_type": "execute_result"
    }
   ],
   "source": [
    "arr.ndim"
   ]
  },
  {
   "cell_type": "code",
   "execution_count": 49,
   "id": "6754e9b7-7cae-45ed-a6d1-1dd73fd14320",
   "metadata": {},
   "outputs": [
    {
     "data": {
      "text/plain": [
       "array([[11,  2],\n",
       "       [ 3,  4]])"
      ]
     },
     "execution_count": 49,
     "metadata": {},
     "output_type": "execute_result"
    }
   ],
   "source": [
    "arr1"
   ]
  },
  {
   "cell_type": "code",
   "execution_count": 50,
   "id": "7b23f987-4460-47e8-ae9e-d48153f81886",
   "metadata": {},
   "outputs": [
    {
     "data": {
      "text/plain": [
       "2"
      ]
     },
     "execution_count": 50,
     "metadata": {},
     "output_type": "execute_result"
    }
   ],
   "source": [
    "arr1.ndim"
   ]
  },
  {
   "cell_type": "code",
   "execution_count": 51,
   "id": "8b7711aa-a899-4786-97dc-f4ae0e5781d9",
   "metadata": {},
   "outputs": [
    {
     "data": {
      "text/plain": [
       "array([[[1111,    2,    3],\n",
       "        [  11,   12,   13]],\n",
       "\n",
       "       [[   4,    5,    6],\n",
       "        [  44,   55,   66]],\n",
       "\n",
       "       [[   7,    8,    9],\n",
       "        [  77,   88,   99]]])"
      ]
     },
     "execution_count": 51,
     "metadata": {},
     "output_type": "execute_result"
    }
   ],
   "source": [
    "arr2"
   ]
  },
  {
   "cell_type": "code",
   "execution_count": 52,
   "id": "4198f118-da7a-47be-99f0-7afcb0f3ad2e",
   "metadata": {},
   "outputs": [
    {
     "data": {
      "text/plain": [
       "3"
      ]
     },
     "execution_count": 52,
     "metadata": {},
     "output_type": "execute_result"
    }
   ],
   "source": [
    "arr2.ndim"
   ]
  },
  {
   "cell_type": "code",
   "execution_count": 53,
   "id": "343ccff0-63c2-43ff-92dc-4c25d0b42c74",
   "metadata": {},
   "outputs": [
    {
     "data": {
      "text/plain": [
       "dtype('int64')"
      ]
     },
     "execution_count": 53,
     "metadata": {},
     "output_type": "execute_result"
    }
   ],
   "source": [
    "arr1.dtype"
   ]
  },
  {
   "cell_type": "code",
   "execution_count": 55,
   "id": "5d3ff99f-645f-430f-be66-415b47e0b689",
   "metadata": {},
   "outputs": [
    {
     "data": {
      "text/plain": [
       "18"
      ]
     },
     "execution_count": 55,
     "metadata": {},
     "output_type": "execute_result"
    }
   ],
   "source": [
    "arr2.size"
   ]
  },
  {
   "cell_type": "code",
   "execution_count": 56,
   "id": "49636a44-5494-4517-8271-6511da07e5bc",
   "metadata": {},
   "outputs": [
    {
     "data": {
      "text/plain": [
       "(3, 2, 3)"
      ]
     },
     "execution_count": 56,
     "metadata": {},
     "output_type": "execute_result"
    }
   ],
   "source": [
    "arr2.shape"
   ]
  },
  {
   "cell_type": "markdown",
   "id": "ff4d006f-bd58-4575-90ed-c59061b24f5b",
   "metadata": {},
   "source": [
    "## ARRAYS WITH FLOAT VALUES"
   ]
  },
  {
   "cell_type": "code",
   "execution_count": 57,
   "id": "90b353b1-a263-4de2-a648-35093a9b83d7",
   "metadata": {},
   "outputs": [],
   "source": [
    "arr_flt = np.array([(1, 2, 3.0), (11, 12, 13)])"
   ]
  },
  {
   "cell_type": "code",
   "execution_count": 58,
   "id": "35286aef-0d98-4a6b-91ac-b2432d4305ea",
   "metadata": {},
   "outputs": [
    {
     "data": {
      "text/plain": [
       "array([[ 1.,  2.,  3.],\n",
       "       [11., 12., 13.]])"
      ]
     },
     "execution_count": 58,
     "metadata": {},
     "output_type": "execute_result"
    }
   ],
   "source": [
    "arr_flt"
   ]
  },
  {
   "cell_type": "code",
   "execution_count": 59,
   "id": "d2ef1273-6828-473f-adc1-5ce6aa03a3e9",
   "metadata": {},
   "outputs": [
    {
     "data": {
      "text/plain": [
       "dtype('float64')"
      ]
     },
     "execution_count": 59,
     "metadata": {},
     "output_type": "execute_result"
    }
   ],
   "source": [
    "arr_flt.dtype"
   ]
  },
  {
   "cell_type": "markdown",
   "id": "53ce6705-cb5a-4c06-b583-b2e1410f7a8a",
   "metadata": {},
   "source": [
    "## MORE WAYS TO CREATE ARRAYS"
   ]
  },
  {
   "cell_type": "code",
   "execution_count": 60,
   "id": "b40863f9-e226-49c5-9b0b-d6ab3b994ad2",
   "metadata": {},
   "outputs": [
    {
     "data": {
      "text/plain": [
       "array([ 0. ,  0.5,  1. ,  1.5,  2. ,  2.5,  3. ,  3.5,  4. ,  4.5,  5. ,\n",
       "        5.5,  6. ,  6.5,  7. ,  7.5,  8. ,  8.5,  9. ,  9.5, 10. , 10.5,\n",
       "       11. , 11.5, 12. , 12.5, 13. , 13.5, 14. , 14.5, 15. , 15.5, 16. ,\n",
       "       16.5, 17. , 17.5, 18. , 18.5, 19. , 19.5, 20. , 20.5, 21. , 21.5,\n",
       "       22. , 22.5, 23. , 23.5, 24. , 24.5, 25. , 25.5, 26. , 26.5, 27. ,\n",
       "       27.5, 28. , 28.5, 29. , 29.5, 30. , 30.5, 31. , 31.5, 32. , 32.5,\n",
       "       33. , 33.5, 34. , 34.5, 35. , 35.5, 36. , 36.5, 37. , 37.5, 38. ,\n",
       "       38.5, 39. , 39.5, 40. , 40.5, 41. , 41.5, 42. , 42.5, 43. , 43.5,\n",
       "       44. , 44.5, 45. , 45.5, 46. , 46.5, 47. , 47.5, 48. , 48.5, 49. ,\n",
       "       49.5, 50. , 50.5, 51. , 51.5, 52. , 52.5, 53. , 53.5, 54. , 54.5,\n",
       "       55. , 55.5, 56. , 56.5, 57. , 57.5, 58. , 58.5, 59. , 59.5, 60. ,\n",
       "       60.5, 61. , 61.5, 62. , 62.5, 63. , 63.5, 64. , 64.5, 65. , 65.5,\n",
       "       66. , 66.5, 67. , 67.5, 68. , 68.5, 69. , 69.5, 70. , 70.5, 71. ,\n",
       "       71.5, 72. , 72.5, 73. , 73.5, 74. , 74.5, 75. , 75.5, 76. , 76.5,\n",
       "       77. , 77.5, 78. , 78.5, 79. , 79.5, 80. , 80.5, 81. , 81.5, 82. ,\n",
       "       82.5, 83. , 83.5, 84. , 84.5, 85. , 85.5, 86. , 86.5, 87. , 87.5,\n",
       "       88. , 88.5, 89. , 89.5, 90. , 90.5, 91. , 91.5, 92. , 92.5, 93. ,\n",
       "       93.5, 94. , 94.5, 95. , 95.5, 96. , 96.5, 97. , 97.5, 98. , 98.5,\n",
       "       99. , 99.5])"
      ]
     },
     "execution_count": 60,
     "metadata": {},
     "output_type": "execute_result"
    }
   ],
   "source": [
    "np.arange(0, 100, 0.5)"
   ]
  },
  {
   "cell_type": "code",
   "execution_count": 61,
   "id": "c3558037-81c8-425c-9500-1d97eaaa0072",
   "metadata": {},
   "outputs": [
    {
     "data": {
      "text/plain": [
       "[np.float64(0.0),\n",
       " np.float64(0.3),\n",
       " np.float64(0.6),\n",
       " np.float64(0.8999999999999999),\n",
       " np.float64(1.2),\n",
       " np.float64(1.5),\n",
       " np.float64(1.7999999999999998),\n",
       " np.float64(2.1),\n",
       " np.float64(2.4),\n",
       " np.float64(2.6999999999999997),\n",
       " np.float64(3.0),\n",
       " np.float64(3.3),\n",
       " np.float64(3.5999999999999996),\n",
       " np.float64(3.9),\n",
       " np.float64(4.2),\n",
       " np.float64(4.5),\n",
       " np.float64(4.8),\n",
       " np.float64(5.1),\n",
       " np.float64(5.3999999999999995),\n",
       " np.float64(5.7),\n",
       " np.float64(6.0),\n",
       " np.float64(6.3),\n",
       " np.float64(6.6),\n",
       " np.float64(6.8999999999999995),\n",
       " np.float64(7.199999999999999),\n",
       " np.float64(7.5),\n",
       " np.float64(7.8),\n",
       " np.float64(8.1),\n",
       " np.float64(8.4),\n",
       " np.float64(8.7),\n",
       " np.float64(9.0),\n",
       " np.float64(9.299999999999999),\n",
       " np.float64(9.6),\n",
       " np.float64(9.9)]"
      ]
     },
     "execution_count": 61,
     "metadata": {},
     "output_type": "execute_result"
    }
   ],
   "source": [
    "list(np.arange(0, 10, 0.3))"
   ]
  },
  {
   "cell_type": "code",
   "execution_count": 62,
   "id": "98d2e43f-6ae0-48fb-80ef-f255bf225d91",
   "metadata": {},
   "outputs": [
    {
     "data": {
      "text/plain": [
       "array([ 1.        ,  1.47368421,  1.94736842,  2.42105263,  2.89473684,\n",
       "        3.36842105,  3.84210526,  4.31578947,  4.78947368,  5.26315789,\n",
       "        5.73684211,  6.21052632,  6.68421053,  7.15789474,  7.63157895,\n",
       "        8.10526316,  8.57894737,  9.05263158,  9.52631579, 10.        ])"
      ]
     },
     "execution_count": 62,
     "metadata": {},
     "output_type": "execute_result"
    }
   ],
   "source": [
    "np.linspace(1, 10, 20)"
   ]
  },
  {
   "cell_type": "code",
   "execution_count": 63,
   "id": "efa0ffbe-b5cb-4693-937a-429b69faf759",
   "metadata": {},
   "outputs": [
    {
     "data": {
      "text/plain": [
       "array([[[0., 0., 0.],\n",
       "        [0., 0., 0.],\n",
       "        [0., 0., 0.]],\n",
       "\n",
       "       [[0., 0., 0.],\n",
       "        [0., 0., 0.],\n",
       "        [0., 0., 0.]],\n",
       "\n",
       "       [[0., 0., 0.],\n",
       "        [0., 0., 0.],\n",
       "        [0., 0., 0.]]])"
      ]
     },
     "execution_count": 63,
     "metadata": {},
     "output_type": "execute_result"
    }
   ],
   "source": [
    "np.zeros((3, 3, 3))"
   ]
  },
  {
   "cell_type": "code",
   "execution_count": 66,
   "id": "c625d265-99b7-4bcf-b418-75a1554e6fe0",
   "metadata": {},
   "outputs": [
    {
     "data": {
      "text/plain": [
       "array([[1., 0., 0., 0.],\n",
       "       [0., 1., 0., 0.],\n",
       "       [0., 0., 1., 0.],\n",
       "       [0., 0., 0., 1.]])"
      ]
     },
     "execution_count": 66,
     "metadata": {},
     "output_type": "execute_result"
    }
   ],
   "source": [
    "np.eye(4)"
   ]
  },
  {
   "cell_type": "code",
   "execution_count": 67,
   "id": "2ee90369-2bd2-4520-a37d-ae79018a4e2c",
   "metadata": {},
   "outputs": [
    {
     "data": {
      "text/plain": [
       "array([[1., 1., 1., 1.],\n",
       "       [1., 1., 1., 1.],\n",
       "       [1., 1., 1., 1.],\n",
       "       [1., 1., 1., 1.]])"
      ]
     },
     "execution_count": 67,
     "metadata": {},
     "output_type": "execute_result"
    }
   ],
   "source": [
    "np.ones((4, 4))"
   ]
  },
  {
   "cell_type": "code",
   "execution_count": 73,
   "id": "ce6a4380-efba-4e70-b8a1-2bdccabaf79d",
   "metadata": {},
   "outputs": [
    {
     "data": {
      "text/plain": [
       "array([[4.8897514e-310, 0.0000000e+000, 0.0000000e+000, 0.0000000e+000,\n",
       "        0.0000000e+000],\n",
       "       [0.0000000e+000, 0.0000000e+000, 0.0000000e+000, 0.0000000e+000,\n",
       "        0.0000000e+000],\n",
       "       [0.0000000e+000, 0.0000000e+000, 0.0000000e+000, 0.0000000e+000,\n",
       "        6.3240403e-322]])"
      ]
     },
     "execution_count": 73,
     "metadata": {},
     "output_type": "execute_result"
    }
   ],
   "source": [
    "np.empty((3, 5))"
   ]
  },
  {
   "cell_type": "code",
   "execution_count": 68,
   "id": "185b3f1d-31a5-45e3-b8bc-a21ccced7050",
   "metadata": {},
   "outputs": [],
   "source": [
    "arr_test = np.eye(5)"
   ]
  },
  {
   "cell_type": "code",
   "execution_count": 69,
   "id": "818d08f4-b6d8-4188-b75f-08a333654781",
   "metadata": {},
   "outputs": [
    {
     "data": {
      "text/plain": [
       "array([[1., 0., 0., 0., 0.],\n",
       "       [0., 1., 0., 0., 0.],\n",
       "       [0., 0., 1., 0., 0.],\n",
       "       [0., 0., 0., 1., 0.],\n",
       "       [0., 0., 0., 0., 1.]])"
      ]
     },
     "execution_count": 69,
     "metadata": {},
     "output_type": "execute_result"
    }
   ],
   "source": [
    "arr_test"
   ]
  },
  {
   "cell_type": "code",
   "execution_count": 70,
   "id": "e2a30445-a1b7-4f58-96fe-ee12120f3296",
   "metadata": {},
   "outputs": [
    {
     "data": {
      "text/plain": [
       "array([[5., 4., 4., 4., 4.],\n",
       "       [4., 5., 4., 4., 4.],\n",
       "       [4., 4., 5., 4., 4.],\n",
       "       [4., 4., 4., 5., 4.],\n",
       "       [4., 4., 4., 4., 5.]])"
      ]
     },
     "execution_count": 70,
     "metadata": {},
     "output_type": "execute_result"
    }
   ],
   "source": [
    "arr_test + 4"
   ]
  },
  {
   "cell_type": "code",
   "execution_count": 75,
   "id": "666f1ea3-2ab7-4949-b8ab-65876c9ae844",
   "metadata": {},
   "outputs": [
    {
     "data": {
      "text/plain": [
       "array([   2.        ,    2.13008218,    2.26862504,    2.41617889,\n",
       "          2.5733298 ,    2.74070197,    2.91896021,    3.10881256,\n",
       "          3.31101312,    3.52636502,    3.75572364,    4.        ,\n",
       "          4.26016436,    4.53725009,    4.83235778,    5.14665959,\n",
       "          5.48140394,    5.83792042,    6.21762513,    6.62202624,\n",
       "          7.05273004,    7.51144729,    8.        ,    8.52032872,\n",
       "          9.07450018,    9.66471556,   10.29331918,   10.96280788,\n",
       "         11.67584085,   12.43525025,   13.24405248,   14.10546008,\n",
       "         15.02289457,   16.        ,   17.04065743,   18.14900036,\n",
       "         19.32943111,   20.58663837,   21.92561576,   23.35168169,\n",
       "         24.87050051,   26.48810496,   28.21092016,   30.04578914,\n",
       "         32.        ,   34.08131486,   36.29800071,   38.65886222,\n",
       "         41.17327674,   43.85123151,   46.70336338,   49.74100102,\n",
       "         52.97620991,   56.42184032,   60.09157828,   64.        ,\n",
       "         68.16262972,   72.59600142,   77.31772444,   82.34655347,\n",
       "         87.70246302,   93.40672676,   99.48200203,  105.95241983,\n",
       "        112.84368064,  120.18315656,  128.        ,  136.32525945,\n",
       "        145.19200284,  154.63544888,  164.69310695,  175.40492604,\n",
       "        186.81345353,  198.96400407,  211.90483965,  225.68736128,\n",
       "        240.36631313,  256.        ,  272.6505189 ,  290.38400568,\n",
       "        309.27089777,  329.38621389,  350.80985209,  373.62690705,\n",
       "        397.92800813,  423.8096793 ,  451.37472256,  480.73262626,\n",
       "        512.        ,  545.30103779,  580.76801136,  618.54179554,\n",
       "        658.77242778,  701.61970418,  747.25381411,  795.85601627,\n",
       "        847.6193586 ,  902.74944512,  961.46525252, 1024.        ])"
      ]
     },
     "execution_count": 75,
     "metadata": {},
     "output_type": "execute_result"
    }
   ],
   "source": [
    "np.logspace(1, 10, 100, base=2)"
   ]
  },
  {
   "cell_type": "code",
   "execution_count": 76,
   "id": "da137907-9c8d-4ae1-9244-865dd35fd266",
   "metadata": {},
   "outputs": [
    {
     "data": {
      "text/plain": [
       "array([   2.        ,   12.33333333,   22.66666667,   33.        ,\n",
       "         43.33333333,   53.66666667,   64.        ,   74.33333333,\n",
       "         84.66666667,   95.        ,  105.33333333,  115.66666667,\n",
       "        126.        ,  136.33333333,  146.66666667,  157.        ,\n",
       "        167.33333333,  177.66666667,  188.        ,  198.33333333,\n",
       "        208.66666667,  219.        ,  229.33333333,  239.66666667,\n",
       "        250.        ,  260.33333333,  270.66666667,  281.        ,\n",
       "        291.33333333,  301.66666667,  312.        ,  322.33333333,\n",
       "        332.66666667,  343.        ,  353.33333333,  363.66666667,\n",
       "        374.        ,  384.33333333,  394.66666667,  405.        ,\n",
       "        415.33333333,  425.66666667,  436.        ,  446.33333333,\n",
       "        456.66666667,  467.        ,  477.33333333,  487.66666667,\n",
       "        498.        ,  508.33333333,  518.66666667,  529.        ,\n",
       "        539.33333333,  549.66666667,  560.        ,  570.33333333,\n",
       "        580.66666667,  591.        ,  601.33333333,  611.66666667,\n",
       "        622.        ,  632.33333333,  642.66666667,  653.        ,\n",
       "        663.33333333,  673.66666667,  684.        ,  694.33333333,\n",
       "        704.66666667,  715.        ,  725.33333333,  735.66666667,\n",
       "        746.        ,  756.33333333,  766.66666667,  777.        ,\n",
       "        787.33333333,  797.66666667,  808.        ,  818.33333333,\n",
       "        828.66666667,  839.        ,  849.33333333,  859.66666667,\n",
       "        870.        ,  880.33333333,  890.66666667,  901.        ,\n",
       "        911.33333333,  921.66666667,  932.        ,  942.33333333,\n",
       "        952.66666667,  963.        ,  973.33333333,  983.66666667,\n",
       "        994.        , 1004.33333333, 1014.66666667, 1025.        ])"
      ]
     },
     "execution_count": 76,
     "metadata": {},
     "output_type": "execute_result"
    }
   ],
   "source": [
    "np.linspace(2, 1025, 100)"
   ]
  },
  {
   "cell_type": "markdown",
   "id": "16a24f52-92b0-4665-8e07-7d83640bee5a",
   "metadata": {},
   "source": [
    "## RANDOM DATA GENERATION"
   ]
  },
  {
   "cell_type": "code",
   "execution_count": 82,
   "id": "04848ef2-c150-411a-9b59-615df2777a50",
   "metadata": {},
   "outputs": [],
   "source": [
    "random_arr1 = np.random.randn(3, 4)"
   ]
  },
  {
   "cell_type": "code",
   "execution_count": 83,
   "id": "a9673b68-288a-48c2-a2e0-16765dfaaeda",
   "metadata": {},
   "outputs": [],
   "source": [
    "import pandas as pd"
   ]
  },
  {
   "cell_type": "code",
   "execution_count": 85,
   "id": "3d0ed5c9-3692-48ed-afb5-7fa24381fe5a",
   "metadata": {},
   "outputs": [
    {
     "data": {
      "text/html": [
       "<div>\n",
       "<style scoped>\n",
       "    .dataframe tbody tr th:only-of-type {\n",
       "        vertical-align: middle;\n",
       "    }\n",
       "\n",
       "    .dataframe tbody tr th {\n",
       "        vertical-align: top;\n",
       "    }\n",
       "\n",
       "    .dataframe thead th {\n",
       "        text-align: right;\n",
       "    }\n",
       "</style>\n",
       "<table border=\"1\" class=\"dataframe\">\n",
       "  <thead>\n",
       "    <tr style=\"text-align: right;\">\n",
       "      <th></th>\n",
       "      <th>0</th>\n",
       "      <th>1</th>\n",
       "      <th>2</th>\n",
       "      <th>3</th>\n",
       "    </tr>\n",
       "  </thead>\n",
       "  <tbody>\n",
       "    <tr>\n",
       "      <th>0</th>\n",
       "      <td>0.436061</td>\n",
       "      <td>0.216459</td>\n",
       "      <td>-0.887546</td>\n",
       "      <td>1.001947</td>\n",
       "    </tr>\n",
       "    <tr>\n",
       "      <th>1</th>\n",
       "      <td>-1.268603</td>\n",
       "      <td>-0.906696</td>\n",
       "      <td>0.141400</td>\n",
       "      <td>0.362884</td>\n",
       "    </tr>\n",
       "    <tr>\n",
       "      <th>2</th>\n",
       "      <td>0.021085</td>\n",
       "      <td>0.709329</td>\n",
       "      <td>3.140349</td>\n",
       "      <td>1.847444</td>\n",
       "    </tr>\n",
       "  </tbody>\n",
       "</table>\n",
       "</div>"
      ],
      "text/plain": [
       "          0         1         2         3\n",
       "0  0.436061  0.216459 -0.887546  1.001947\n",
       "1 -1.268603 -0.906696  0.141400  0.362884\n",
       "2  0.021085  0.709329  3.140349  1.847444"
      ]
     },
     "execution_count": 85,
     "metadata": {},
     "output_type": "execute_result"
    }
   ],
   "source": [
    "pd.DataFrame(random_arr1)"
   ]
  },
  {
   "cell_type": "code",
   "execution_count": 86,
   "id": "4333b7c2-00ed-4f16-8517-863301b40ca0",
   "metadata": {},
   "outputs": [],
   "source": [
    "random_arr2 = np.random.rand(3, 4)"
   ]
  },
  {
   "cell_type": "code",
   "execution_count": 87,
   "id": "d4c0483f-b4e4-4486-a128-32cad3d3642d",
   "metadata": {},
   "outputs": [
    {
     "data": {
      "text/html": [
       "<div>\n",
       "<style scoped>\n",
       "    .dataframe tbody tr th:only-of-type {\n",
       "        vertical-align: middle;\n",
       "    }\n",
       "\n",
       "    .dataframe tbody tr th {\n",
       "        vertical-align: top;\n",
       "    }\n",
       "\n",
       "    .dataframe thead th {\n",
       "        text-align: right;\n",
       "    }\n",
       "</style>\n",
       "<table border=\"1\" class=\"dataframe\">\n",
       "  <thead>\n",
       "    <tr style=\"text-align: right;\">\n",
       "      <th></th>\n",
       "      <th>0</th>\n",
       "      <th>1</th>\n",
       "      <th>2</th>\n",
       "      <th>3</th>\n",
       "    </tr>\n",
       "  </thead>\n",
       "  <tbody>\n",
       "    <tr>\n",
       "      <th>0</th>\n",
       "      <td>0.374726</td>\n",
       "      <td>0.146741</td>\n",
       "      <td>0.665945</td>\n",
       "      <td>0.625643</td>\n",
       "    </tr>\n",
       "    <tr>\n",
       "      <th>1</th>\n",
       "      <td>0.508161</td>\n",
       "      <td>0.573112</td>\n",
       "      <td>0.680459</td>\n",
       "      <td>0.975987</td>\n",
       "    </tr>\n",
       "    <tr>\n",
       "      <th>2</th>\n",
       "      <td>0.661353</td>\n",
       "      <td>0.561123</td>\n",
       "      <td>0.786633</td>\n",
       "      <td>0.403503</td>\n",
       "    </tr>\n",
       "  </tbody>\n",
       "</table>\n",
       "</div>"
      ],
      "text/plain": [
       "          0         1         2         3\n",
       "0  0.374726  0.146741  0.665945  0.625643\n",
       "1  0.508161  0.573112  0.680459  0.975987\n",
       "2  0.661353  0.561123  0.786633  0.403503"
      ]
     },
     "execution_count": 87,
     "metadata": {},
     "output_type": "execute_result"
    }
   ],
   "source": [
    "pd.DataFrame(random_arr2)"
   ]
  },
  {
   "cell_type": "code",
   "execution_count": 90,
   "id": "d0537ba1-b8b9-4a03-9402-bfd61692b35d",
   "metadata": {},
   "outputs": [],
   "source": [
    "random_arr3 = np.random.randint(1, 100, (4, 4))"
   ]
  },
  {
   "cell_type": "code",
   "execution_count": 91,
   "id": "857efc1e-8700-4613-8802-20a96e67f6d8",
   "metadata": {},
   "outputs": [
    {
     "data": {
      "text/plain": [
       "array([[72, 88, 90,  2],\n",
       "       [24, 88, 53, 29],\n",
       "       [46, 10,  3, 81],\n",
       "       [96, 50, 42, 85]])"
      ]
     },
     "execution_count": 91,
     "metadata": {},
     "output_type": "execute_result"
    }
   ],
   "source": [
    "random_arr3"
   ]
  },
  {
   "cell_type": "code",
   "execution_count": 93,
   "id": "6dba6d4c-a816-45dc-aa93-3e357e2d8b4c",
   "metadata": {},
   "outputs": [],
   "source": [
    "pd.DataFrame(random_arr3).to_csv(\"test.csv\")"
   ]
  },
  {
   "cell_type": "markdown",
   "id": "f8d610e6-ff78-4c4b-a85c-bcc76094237b",
   "metadata": {},
   "source": [
    "## RESHAPE"
   ]
  },
  {
   "cell_type": "code",
   "execution_count": 94,
   "id": "44940cf5-21e9-4e85-b57a-436fe178e123",
   "metadata": {},
   "outputs": [
    {
     "data": {
      "text/plain": [
       "array([[72, 88, 90,  2],\n",
       "       [24, 88, 53, 29],\n",
       "       [46, 10,  3, 81],\n",
       "       [96, 50, 42, 85]])"
      ]
     },
     "execution_count": 94,
     "metadata": {},
     "output_type": "execute_result"
    }
   ],
   "source": [
    "random_arr3"
   ]
  },
  {
   "cell_type": "code",
   "execution_count": 95,
   "id": "4ac7e1c7-7dee-4086-a299-760232899937",
   "metadata": {},
   "outputs": [
    {
     "data": {
      "text/plain": [
       "array([[72, 88, 90,  2, 24, 88, 53, 29],\n",
       "       [46, 10,  3, 81, 96, 50, 42, 85]])"
      ]
     },
     "execution_count": 95,
     "metadata": {},
     "output_type": "execute_result"
    }
   ],
   "source": [
    "random_arr3.reshape((2, 8))"
   ]
  },
  {
   "cell_type": "code",
   "execution_count": 96,
   "id": "7c2b8138-e823-4f5d-bc96-de88b2f59c11",
   "metadata": {},
   "outputs": [
    {
     "ename": "ValueError",
     "evalue": "cannot reshape array of size 16 into shape (5,newaxis)",
     "output_type": "error",
     "traceback": [
      "\u001b[0;31m---------------------------------------------------------------------------\u001b[0m",
      "\u001b[0;31mValueError\u001b[0m                                Traceback (most recent call last)",
      "Cell \u001b[0;32mIn[96], line 1\u001b[0m\n\u001b[0;32m----> 1\u001b[0m \u001b[43mrandom_arr3\u001b[49m\u001b[38;5;241;43m.\u001b[39;49m\u001b[43mreshape\u001b[49m\u001b[43m(\u001b[49m\u001b[43m(\u001b[49m\u001b[38;5;241;43m5\u001b[39;49m\u001b[43m,\u001b[49m\u001b[43m \u001b[49m\u001b[38;5;241;43m-\u001b[39;49m\u001b[38;5;241;43m1\u001b[39;49m\u001b[43m)\u001b[49m\u001b[43m)\u001b[49m\n",
      "\u001b[0;31mValueError\u001b[0m: cannot reshape array of size 16 into shape (5,newaxis)"
     ]
    }
   ],
   "source": [
    "random_arr3.reshape((5, -1))"
   ]
  },
  {
   "cell_type": "code",
   "execution_count": 97,
   "id": "fc579406-1cb5-4077-a4f4-3f18a23ec0f7",
   "metadata": {},
   "outputs": [
    {
     "data": {
      "text/plain": [
       "array([[72, 88],\n",
       "       [90,  2],\n",
       "       [24, 88],\n",
       "       [53, 29],\n",
       "       [46, 10],\n",
       "       [ 3, 81],\n",
       "       [96, 50],\n",
       "       [42, 85]])"
      ]
     },
     "execution_count": 97,
     "metadata": {},
     "output_type": "execute_result"
    }
   ],
   "source": [
    "random_arr3.reshape((8, -1))"
   ]
  },
  {
   "cell_type": "markdown",
   "id": "a891fb68-cfac-4737-9e90-fbab7f482ce9",
   "metadata": {},
   "source": [
    "## SLICING"
   ]
  },
  {
   "cell_type": "code",
   "execution_count": 98,
   "id": "1c3a85e8-e12f-4f5a-8eb1-8b995cae4f0c",
   "metadata": {},
   "outputs": [
    {
     "data": {
      "text/plain": [
       "array([[72, 88, 90,  2],\n",
       "       [24, 88, 53, 29],\n",
       "       [46, 10,  3, 81],\n",
       "       [96, 50, 42, 85]])"
      ]
     },
     "execution_count": 98,
     "metadata": {},
     "output_type": "execute_result"
    }
   ],
   "source": [
    "random_arr3"
   ]
  },
  {
   "cell_type": "code",
   "execution_count": 99,
   "id": "f0898473-e77c-47ad-a428-d72636191bc6",
   "metadata": {},
   "outputs": [
    {
     "data": {
      "text/plain": [
       "array([[88, 53],\n",
       "       [10,  3]])"
      ]
     },
     "execution_count": 99,
     "metadata": {},
     "output_type": "execute_result"
    }
   ],
   "source": [
    "random_arr3[1:3,1:3]"
   ]
  },
  {
   "cell_type": "code",
   "execution_count": 104,
   "id": "559e39fe-8ede-4769-9eb0-643d92c147c4",
   "metadata": {},
   "outputs": [
    {
     "data": {
      "text/plain": [
       "array([[88, 29],\n",
       "       [10, 81]])"
      ]
     },
     "execution_count": 104,
     "metadata": {},
     "output_type": "execute_result"
    }
   ],
   "source": [
    "random_arr3[ 1:3, [1,3]]"
   ]
  },
  {
   "cell_type": "code",
   "execution_count": 106,
   "id": "ceee22c6-0852-4c45-b73f-dac1238c82f5",
   "metadata": {},
   "outputs": [
    {
     "data": {
      "text/plain": [
       "array([88, 81])"
      ]
     },
     "execution_count": 106,
     "metadata": {},
     "output_type": "execute_result"
    }
   ],
   "source": [
    "random_arr3[[1,2], [1,3]]"
   ]
  },
  {
   "cell_type": "markdown",
   "id": "4e91de98-4c7c-4459-ad5d-a4abc29a1114",
   "metadata": {},
   "source": [
    "## APPLYING CONDITIONS"
   ]
  },
  {
   "cell_type": "code",
   "execution_count": 100,
   "id": "da597e1e-f0e6-4829-9470-a35652f0fa01",
   "metadata": {},
   "outputs": [
    {
     "data": {
      "text/plain": [
       "array([[72, 88, 90,  2],\n",
       "       [24, 88, 53, 29],\n",
       "       [46, 10,  3, 81],\n",
       "       [96, 50, 42, 85]])"
      ]
     },
     "execution_count": 100,
     "metadata": {},
     "output_type": "execute_result"
    }
   ],
   "source": [
    "random_arr3"
   ]
  },
  {
   "cell_type": "code",
   "execution_count": 101,
   "id": "ad8a7ae5-620d-4e41-85f5-c6236cd0ab1b",
   "metadata": {},
   "outputs": [
    {
     "data": {
      "text/plain": [
       "array([[ True,  True,  True, False],\n",
       "       [False,  True,  True, False],\n",
       "       [ True, False, False,  True],\n",
       "       [ True,  True,  True,  True]])"
      ]
     },
     "execution_count": 101,
     "metadata": {},
     "output_type": "execute_result"
    }
   ],
   "source": [
    "random_arr3 > 30"
   ]
  },
  {
   "cell_type": "code",
   "execution_count": 102,
   "id": "ef7c3f9f-e124-4cf2-a995-d3e92fab7185",
   "metadata": {},
   "outputs": [
    {
     "data": {
      "text/plain": [
       "array([72, 88, 90, 88, 53, 46, 81, 96, 50, 42, 85])"
      ]
     },
     "execution_count": 102,
     "metadata": {},
     "output_type": "execute_result"
    }
   ],
   "source": [
    "random_arr3[random_arr3 > 30]"
   ]
  },
  {
   "cell_type": "markdown",
   "id": "927bb709-8d63-453a-b297-1f1507bb03ee",
   "metadata": {},
   "source": [
    "## OPERATIONS"
   ]
  },
  {
   "cell_type": "code",
   "execution_count": 107,
   "id": "026b60ba-1a5a-4834-8b7b-b83fb3060c24",
   "metadata": {},
   "outputs": [],
   "source": [
    "arr1 = np.random.randint(1, 20, (3, 4))"
   ]
  },
  {
   "cell_type": "code",
   "execution_count": 108,
   "id": "8ce5f759-5ce4-4167-8205-ec84a2509297",
   "metadata": {},
   "outputs": [
    {
     "data": {
      "text/plain": [
       "array([[11,  6,  7,  5],\n",
       "       [14, 10, 13, 13],\n",
       "       [ 6,  9,  5, 11]])"
      ]
     },
     "execution_count": 108,
     "metadata": {},
     "output_type": "execute_result"
    }
   ],
   "source": [
    "arr1"
   ]
  },
  {
   "cell_type": "code",
   "execution_count": 109,
   "id": "d6e747be-a5b4-4fce-94fa-caa4865beabb",
   "metadata": {},
   "outputs": [],
   "source": [
    "arr2 = np.random.randint(1, 20, (3, 4))"
   ]
  },
  {
   "cell_type": "code",
   "execution_count": 110,
   "id": "797d02dc-d791-4176-8dbd-8095d80374d3",
   "metadata": {},
   "outputs": [
    {
     "data": {
      "text/plain": [
       "array([[ 4, 14, 17,  5],\n",
       "       [12, 11,  9, 17],\n",
       "       [ 4, 15, 13,  9]])"
      ]
     },
     "execution_count": 110,
     "metadata": {},
     "output_type": "execute_result"
    }
   ],
   "source": [
    "arr2"
   ]
  },
  {
   "cell_type": "code",
   "execution_count": 111,
   "id": "1a9db8a2-0138-4cde-9933-3275278e4293",
   "metadata": {},
   "outputs": [
    {
     "data": {
      "text/plain": [
       "array([[15, 20, 24, 10],\n",
       "       [26, 21, 22, 30],\n",
       "       [10, 24, 18, 20]])"
      ]
     },
     "execution_count": 111,
     "metadata": {},
     "output_type": "execute_result"
    }
   ],
   "source": [
    "arr1 + arr2"
   ]
  },
  {
   "cell_type": "code",
   "execution_count": 112,
   "id": "80e662e0-ecfd-404e-99a9-39b3f5d0b162",
   "metadata": {},
   "outputs": [
    {
     "data": {
      "text/plain": [
       "array([[  7,  -8, -10,   0],\n",
       "       [  2,  -1,   4,  -4],\n",
       "       [  2,  -6,  -8,   2]])"
      ]
     },
     "execution_count": 112,
     "metadata": {},
     "output_type": "execute_result"
    }
   ],
   "source": [
    "arr1 - arr2"
   ]
  },
  {
   "cell_type": "code",
   "execution_count": 113,
   "id": "7c252fc3-f79a-4ef5-bc7e-18db7dfa90b5",
   "metadata": {},
   "outputs": [
    {
     "data": {
      "text/plain": [
       "array([[2.75      , 0.42857143, 0.41176471, 1.        ],\n",
       "       [1.16666667, 0.90909091, 1.44444444, 0.76470588],\n",
       "       [1.5       , 0.6       , 0.38461538, 1.22222222]])"
      ]
     },
     "execution_count": 113,
     "metadata": {},
     "output_type": "execute_result"
    }
   ],
   "source": [
    "arr1 / arr2"
   ]
  },
  {
   "cell_type": "code",
   "execution_count": 114,
   "id": "6ccda648-e5de-4673-9c8a-768e44100c0a",
   "metadata": {},
   "outputs": [
    {
     "data": {
      "text/plain": [
       "array([[ 44,  84, 119,  25],\n",
       "       [168, 110, 117, 221],\n",
       "       [ 24, 135,  65,  99]])"
      ]
     },
     "execution_count": 114,
     "metadata": {},
     "output_type": "execute_result"
    }
   ],
   "source": [
    "arr1 * arr2"
   ]
  },
  {
   "cell_type": "code",
   "execution_count": 115,
   "id": "d2749aed-a10f-492d-8c54-0451206c3963",
   "metadata": {},
   "outputs": [
    {
     "ename": "ValueError",
     "evalue": "matmul: Input operand 1 has a mismatch in its core dimension 0, with gufunc signature (n?,k),(k,m?)->(n?,m?) (size 3 is different from 4)",
     "output_type": "error",
     "traceback": [
      "\u001b[0;31m---------------------------------------------------------------------------\u001b[0m",
      "\u001b[0;31mValueError\u001b[0m                                Traceback (most recent call last)",
      "Cell \u001b[0;32mIn[115], line 1\u001b[0m\n\u001b[0;32m----> 1\u001b[0m \u001b[43marr1\u001b[49m\u001b[43m \u001b[49m\u001b[38;5;241;43m@\u001b[39;49m\u001b[43m \u001b[49m\u001b[43marr2\u001b[49m\n",
      "\u001b[0;31mValueError\u001b[0m: matmul: Input operand 1 has a mismatch in its core dimension 0, with gufunc signature (n?,k),(k,m?)->(n?,m?) (size 3 is different from 4)"
     ]
    }
   ],
   "source": [
    "arr1 @ arr2"
   ]
  },
  {
   "cell_type": "code",
   "execution_count": 117,
   "id": "d0edcd40-d6fb-4ee8-9664-d1ffc45e27d1",
   "metadata": {},
   "outputs": [],
   "source": [
    "arr3 = np.random.randint(1, 20, (4, 3))"
   ]
  },
  {
   "cell_type": "code",
   "execution_count": 118,
   "id": "495b96fa-1615-42c6-a310-047534912340",
   "metadata": {},
   "outputs": [
    {
     "data": {
      "text/plain": [
       "array([[297, 301, 300],\n",
       "       [481, 490, 488],\n",
       "       [265, 290, 250]])"
      ]
     },
     "execution_count": 118,
     "metadata": {},
     "output_type": "execute_result"
    }
   ],
   "source": [
    "arr1 @ arr3"
   ]
  },
  {
   "cell_type": "code",
   "execution_count": null,
   "id": "f29567af-dbc1-4d82-80cd-f94559043417",
   "metadata": {},
   "outputs": [],
   "source": [
    "arr1.T"
   ]
  },
  {
   "cell_type": "code",
   "execution_count": null,
   "id": "369e4c45-625e-4dc2-b363-f7383e27a3a9",
   "metadata": {},
   "outputs": [],
   "source": [
    "np.exp(arr1)"
   ]
  },
  {
   "cell_type": "code",
   "execution_count": null,
   "id": "0b02f59f-02b9-437b-89e4-25ea2691fdbf",
   "metadata": {},
   "outputs": [],
   "source": [
    "np.log10(arr1)"
   ]
  },
  {
   "cell_type": "code",
   "execution_count": null,
   "id": "6db366be-10d7-4a7c-932b-05875ac09ac0",
   "metadata": {},
   "outputs": [],
   "source": [
    "np.sqrt(arr1)"
   ]
  },
  {
   "cell_type": "markdown",
   "id": "ebac6dbe-4709-4c9e-af71-a8f7ee8bb33f",
   "metadata": {},
   "source": [
    "## BROADCASTING"
   ]
  },
  {
   "cell_type": "code",
   "execution_count": 119,
   "id": "e854bd0b-984d-4778-bbca-bd82bbfd0144",
   "metadata": {},
   "outputs": [],
   "source": [
    "arr1 = np.random.randint(1, 50, (4, 4))"
   ]
  },
  {
   "cell_type": "code",
   "execution_count": 120,
   "id": "2838ccd6-56f1-4c5c-99fb-909fa5c26e36",
   "metadata": {},
   "outputs": [
    {
     "data": {
      "text/plain": [
       "array([[39, 38, 47, 31],\n",
       "       [12, 37, 21,  7],\n",
       "       [11, 30, 42, 38],\n",
       "       [16, 19, 28, 45]])"
      ]
     },
     "execution_count": 120,
     "metadata": {},
     "output_type": "execute_result"
    }
   ],
   "source": [
    "arr1"
   ]
  },
  {
   "cell_type": "code",
   "execution_count": 121,
   "id": "4be34659-1d16-4a50-acb2-b7345398f007",
   "metadata": {},
   "outputs": [],
   "source": [
    "vect1 = np.array([1, 2, 3, 4])"
   ]
  },
  {
   "cell_type": "code",
   "execution_count": 122,
   "id": "c48e2c5e-c08e-4853-9ca5-1d73fdef5fb4",
   "metadata": {},
   "outputs": [
    {
     "data": {
      "text/plain": [
       "array([[40, 40, 50, 35],\n",
       "       [13, 39, 24, 11],\n",
       "       [12, 32, 45, 42],\n",
       "       [17, 21, 31, 49]])"
      ]
     },
     "execution_count": 122,
     "metadata": {},
     "output_type": "execute_result"
    }
   ],
   "source": [
    "arr1 + vect1"
   ]
  },
  {
   "cell_type": "code",
   "execution_count": 125,
   "id": "a558e369-7f1b-409e-9748-326d4ae945c6",
   "metadata": {},
   "outputs": [
    {
     "data": {
      "text/plain": [
       "array([[40, 39, 48, 32],\n",
       "       [14, 39, 23,  9],\n",
       "       [14, 33, 45, 41],\n",
       "       [20, 23, 32, 49]])"
      ]
     },
     "execution_count": 125,
     "metadata": {},
     "output_type": "execute_result"
    }
   ],
   "source": [
    "arr1 + vect1.reshape(4,-1)"
   ]
  },
  {
   "cell_type": "code",
   "execution_count": null,
   "id": "f13291c0-80f1-4d08-8242-99fde42a6091",
   "metadata": {},
   "outputs": [],
   "source": []
  }
 ],
 "metadata": {
  "kernelspec": {
   "display_name": "Python 3 (ipykernel)",
   "language": "python",
   "name": "python3"
  },
  "language_info": {
   "codemirror_mode": {
    "name": "ipython",
    "version": 3
   },
   "file_extension": ".py",
   "mimetype": "text/x-python",
   "name": "python",
   "nbconvert_exporter": "python",
   "pygments_lexer": "ipython3",
   "version": "3.12.5"
  }
 },
 "nbformat": 4,
 "nbformat_minor": 5
}
