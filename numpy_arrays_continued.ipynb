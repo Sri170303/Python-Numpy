{
 "cells": [
  {
   "cell_type": "code",
   "execution_count": 1,
   "id": "4f87c58d-0921-4f99-8c00-99f6ef03ad56",
   "metadata": {},
   "outputs": [],
   "source": [
    "import numpy as np"
   ]
  },
  {
   "cell_type": "code",
   "execution_count": 2,
   "id": "3e9db8f6-1b4d-47ca-8cce-13512e577959",
   "metadata": {},
   "outputs": [
    {
     "data": {
      "text/plain": [
       "array([[[12, 16,  0],\n",
       "        [68, 32, 94],\n",
       "        [96, 10, 57]],\n",
       "\n",
       "       [[52, 38, 37],\n",
       "        [21, 65, 57],\n",
       "        [28, 41, 65]]])"
      ]
     },
     "execution_count": 2,
     "metadata": {},
     "output_type": "execute_result"
    }
   ],
   "source": [
    "arr = np.random.randint(0, 100, (2, 3, 3))\n",
    "arr"
   ]
  },
  {
   "cell_type": "code",
   "execution_count": 3,
   "id": "240d270c-24c0-468d-a5a9-a0c71063dfdb",
   "metadata": {},
   "outputs": [],
   "source": [
    "arr1 = np.random.randint(1, 10, size=10)"
   ]
  },
  {
   "cell_type": "code",
   "execution_count": 4,
   "id": "e72a9e32-3e90-41f1-8659-747623461908",
   "metadata": {},
   "outputs": [
    {
     "data": {
      "text/plain": [
       "array([7, 9, 3, 6, 3, 5, 1, 4, 4, 4])"
      ]
     },
     "execution_count": 4,
     "metadata": {},
     "output_type": "execute_result"
    }
   ],
   "source": [
    "arr1"
   ]
  },
  {
   "cell_type": "code",
   "execution_count": 5,
   "id": "d8c0e183-8342-4cb0-b7e7-bfcbe5a39187",
   "metadata": {},
   "outputs": [
    {
     "data": {
      "text/plain": [
       "array([1, 3, 3, 4, 4, 4, 5, 6, 7, 9])"
      ]
     },
     "execution_count": 5,
     "metadata": {},
     "output_type": "execute_result"
    }
   ],
   "source": [
    "np.sort(arr1)"
   ]
  },
  {
   "cell_type": "code",
   "execution_count": 6,
   "id": "bf95a4eb-7eec-4a0b-b0db-ba7b3d633e5c",
   "metadata": {},
   "outputs": [
    {
     "data": {
      "text/plain": [
       "np.int64(0)"
      ]
     },
     "execution_count": 6,
     "metadata": {},
     "output_type": "execute_result"
    }
   ],
   "source": [
    "np.searchsorted(arr1, 3)"
   ]
  },
  {
   "cell_type": "code",
   "execution_count": 7,
   "id": "bdca8fd4-5878-4201-9db4-3864e368da51",
   "metadata": {},
   "outputs": [],
   "source": [
    "arr2 = np.random.randint(1, 100, size=(2,5))"
   ]
  },
  {
   "cell_type": "code",
   "execution_count": 8,
   "id": "6d692ecf-60ef-464c-a2cf-bc03c6a0692a",
   "metadata": {},
   "outputs": [
    {
     "data": {
      "text/plain": [
       "array([[26, 63, 22,  7, 54],\n",
       "       [ 5,  4, 30, 40, 84]])"
      ]
     },
     "execution_count": 8,
     "metadata": {},
     "output_type": "execute_result"
    }
   ],
   "source": [
    "arr2"
   ]
  },
  {
   "cell_type": "code",
   "execution_count": 9,
   "id": "ce61d02e-a6b2-4dd8-a3f7-d2855ed03d99",
   "metadata": {},
   "outputs": [],
   "source": [
    "arr3 = np.random.randint(0, 3, size=(4, 5))"
   ]
  },
  {
   "cell_type": "code",
   "execution_count": 10,
   "id": "481b0e5a-b05a-47b5-ac1a-fb7088d6a5ed",
   "metadata": {},
   "outputs": [
    {
     "data": {
      "text/plain": [
       "array([[2, 1, 1, 2, 1],\n",
       "       [0, 1, 2, 2, 0],\n",
       "       [2, 1, 0, 2, 2],\n",
       "       [0, 1, 1, 1, 2]])"
      ]
     },
     "execution_count": 10,
     "metadata": {},
     "output_type": "execute_result"
    }
   ],
   "source": [
    "arr3"
   ]
  },
  {
   "cell_type": "code",
   "execution_count": 11,
   "id": "0aa7f57b-0311-43a3-8905-149d5aa5e5aa",
   "metadata": {},
   "outputs": [
    {
     "data": {
      "text/plain": [
       "16"
      ]
     },
     "execution_count": 11,
     "metadata": {},
     "output_type": "execute_result"
    }
   ],
   "source": [
    "np.count_nonzero(arr3)"
   ]
  },
  {
   "cell_type": "code",
   "execution_count": 12,
   "id": "28372424-be13-48ad-a3d0-4aa1d4a8f564",
   "metadata": {},
   "outputs": [
    {
     "data": {
      "text/plain": [
       "(array([0, 0, 0, 0, 0, 1, 1, 1, 2, 2, 2, 2, 3, 3, 3, 3]),\n",
       " array([0, 1, 2, 3, 4, 1, 2, 3, 0, 1, 3, 4, 1, 2, 3, 4]))"
      ]
     },
     "execution_count": 12,
     "metadata": {},
     "output_type": "execute_result"
    }
   ],
   "source": [
    "np.where(arr3 > 0)"
   ]
  },
  {
   "cell_type": "code",
   "execution_count": 13,
   "id": "047e14ce-51ef-473a-b512-eaebf0def948",
   "metadata": {},
   "outputs": [
    {
     "data": {
      "text/plain": [
       "array([2, 2, 2, 2, 2, 2, 2, 2])"
      ]
     },
     "execution_count": 13,
     "metadata": {},
     "output_type": "execute_result"
    }
   ],
   "source": [
    "np.extract(arr3 > 1, arr3)"
   ]
  },
  {
   "cell_type": "code",
   "execution_count": 14,
   "id": "471e5d36-161f-4e15-a247-b5ae209df01c",
   "metadata": {},
   "outputs": [
    {
     "data": {
      "text/plain": [
       "array([[144115188075855872,  72057594037927936,  72057594037927936,\n",
       "        144115188075855872,  72057594037927936],\n",
       "       [                 0,  72057594037927936, 144115188075855872,\n",
       "        144115188075855872,                  0],\n",
       "       [144115188075855872,  72057594037927936,                  0,\n",
       "        144115188075855872, 144115188075855872],\n",
       "       [                 0,  72057594037927936,  72057594037927936,\n",
       "         72057594037927936, 144115188075855872]])"
      ]
     },
     "execution_count": 14,
     "metadata": {},
     "output_type": "execute_result"
    }
   ],
   "source": [
    "arr3.byteswap()"
   ]
  },
  {
   "cell_type": "code",
   "execution_count": 15,
   "id": "535370e4-6a6f-4075-a7df-d30754afdfa7",
   "metadata": {},
   "outputs": [],
   "source": [
    "arr4 = arr3"
   ]
  },
  {
   "cell_type": "code",
   "execution_count": 16,
   "id": "80d0342a-30dd-4f9e-a151-a04c453c7a9d",
   "metadata": {},
   "outputs": [
    {
     "data": {
      "text/plain": [
       "array([[2, 1, 1, 2, 1],\n",
       "       [0, 1, 2, 2, 0],\n",
       "       [2, 1, 0, 2, 2],\n",
       "       [0, 1, 1, 1, 2]])"
      ]
     },
     "execution_count": 16,
     "metadata": {},
     "output_type": "execute_result"
    }
   ],
   "source": [
    "arr3"
   ]
  },
  {
   "cell_type": "code",
   "execution_count": 17,
   "id": "04ed0188-3336-4af4-b082-35c09d2a5b8f",
   "metadata": {},
   "outputs": [
    {
     "data": {
      "text/plain": [
       "array([[2, 1, 1, 2, 1],\n",
       "       [0, 1, 2, 2, 0],\n",
       "       [2, 1, 0, 2, 2],\n",
       "       [0, 1, 1, 1, 2]])"
      ]
     },
     "execution_count": 17,
     "metadata": {},
     "output_type": "execute_result"
    }
   ],
   "source": [
    "arr4"
   ]
  },
  {
   "cell_type": "code",
   "execution_count": 18,
   "id": "21356e08-3790-431f-90e1-84cd0b9f28cf",
   "metadata": {},
   "outputs": [],
   "source": [
    "arr3[0][0] = 33"
   ]
  },
  {
   "cell_type": "code",
   "execution_count": 19,
   "id": "de2cdb40-c168-4e90-ab45-f174ec7e2b93",
   "metadata": {},
   "outputs": [
    {
     "data": {
      "text/plain": [
       "array([[33,  1,  1,  2,  1],\n",
       "       [ 0,  1,  2,  2,  0],\n",
       "       [ 2,  1,  0,  2,  2],\n",
       "       [ 0,  1,  1,  1,  2]])"
      ]
     },
     "execution_count": 19,
     "metadata": {},
     "output_type": "execute_result"
    }
   ],
   "source": [
    "arr3"
   ]
  },
  {
   "cell_type": "code",
   "execution_count": 20,
   "id": "fc05fa56-fd36-4744-9c71-f546815d3e18",
   "metadata": {},
   "outputs": [
    {
     "data": {
      "text/plain": [
       "array([[33,  1,  1,  2,  1],\n",
       "       [ 0,  1,  2,  2,  0],\n",
       "       [ 2,  1,  0,  2,  2],\n",
       "       [ 0,  1,  1,  1,  2]])"
      ]
     },
     "execution_count": 20,
     "metadata": {},
     "output_type": "execute_result"
    }
   ],
   "source": [
    "arr4"
   ]
  },
  {
   "cell_type": "code",
   "execution_count": 21,
   "id": "d6a66314-12be-4ded-92bf-873573e12b11",
   "metadata": {},
   "outputs": [],
   "source": [
    "arr5 = np.copy(arr3)"
   ]
  },
  {
   "cell_type": "code",
   "execution_count": 22,
   "id": "84378c07-0aed-4662-9270-1b6f321b83ea",
   "metadata": {},
   "outputs": [],
   "source": [
    "arr5[0][0] = 100"
   ]
  },
  {
   "cell_type": "code",
   "execution_count": 23,
   "id": "ebbf85ec-7403-48b7-82b7-563db149aad1",
   "metadata": {},
   "outputs": [
    {
     "data": {
      "text/plain": [
       "array([[100,   1,   1,   2,   1],\n",
       "       [  0,   1,   2,   2,   0],\n",
       "       [  2,   1,   0,   2,   2],\n",
       "       [  0,   1,   1,   1,   2]])"
      ]
     },
     "execution_count": 23,
     "metadata": {},
     "output_type": "execute_result"
    }
   ],
   "source": [
    "arr5"
   ]
  },
  {
   "cell_type": "code",
   "execution_count": 24,
   "id": "28c0e902-f32a-4499-98c6-cd5b0464b789",
   "metadata": {},
   "outputs": [
    {
     "data": {
      "text/plain": [
       "array([[33,  1,  1,  2,  1],\n",
       "       [ 0,  1,  2,  2,  0],\n",
       "       [ 2,  1,  0,  2,  2],\n",
       "       [ 0,  1,  1,  1,  2]])"
      ]
     },
     "execution_count": 24,
     "metadata": {},
     "output_type": "execute_result"
    }
   ],
   "source": [
    "arr4"
   ]
  },
  {
   "cell_type": "code",
   "execution_count": 25,
   "id": "49af0c32-ce71-4bf1-99fd-d974afc55880",
   "metadata": {},
   "outputs": [],
   "source": [
    "arr6 = arr5.view()"
   ]
  },
  {
   "cell_type": "code",
   "execution_count": 26,
   "id": "bdcd741a-2502-442d-9455-c69439284b17",
   "metadata": {},
   "outputs": [],
   "source": [
    "arr6[0][0] = 200"
   ]
  },
  {
   "cell_type": "code",
   "execution_count": 27,
   "id": "1f235e8b-0da9-4a44-a299-8cb11384cbb6",
   "metadata": {},
   "outputs": [
    {
     "data": {
      "text/plain": [
       "array([[200,   1,   1,   2,   1],\n",
       "       [  0,   1,   2,   2,   0],\n",
       "       [  2,   1,   0,   2,   2],\n",
       "       [  0,   1,   1,   1,   2]])"
      ]
     },
     "execution_count": 27,
     "metadata": {},
     "output_type": "execute_result"
    }
   ],
   "source": [
    "arr6"
   ]
  },
  {
   "cell_type": "code",
   "execution_count": 28,
   "id": "0fc56426-c5e1-43f4-a6b2-4941d7a5da5c",
   "metadata": {},
   "outputs": [
    {
     "data": {
      "text/plain": [
       "array([[200,   1,   1,   2,   1],\n",
       "       [  0,   1,   2,   2,   0],\n",
       "       [  2,   1,   0,   2,   2],\n",
       "       [  0,   1,   1,   1,   2]])"
      ]
     },
     "execution_count": 28,
     "metadata": {},
     "output_type": "execute_result"
    }
   ],
   "source": [
    "arr5"
   ]
  },
  {
   "cell_type": "code",
   "execution_count": 29,
   "id": "f89e786a-54d9-4e60-bcca-06e3c71828d9",
   "metadata": {},
   "outputs": [],
   "source": [
    "import numpy.matlib as mt"
   ]
  },
  {
   "cell_type": "code",
   "execution_count": 30,
   "id": "4b221182-d1ee-454f-8448-3f249380d91c",
   "metadata": {},
   "outputs": [
    {
     "data": {
      "text/plain": [
       "matrix([[0., 0., 0., 0., 0.]])"
      ]
     },
     "execution_count": 30,
     "metadata": {},
     "output_type": "execute_result"
    }
   ],
   "source": [
    "mt.zeros(5)"
   ]
  },
  {
   "cell_type": "code",
   "execution_count": 31,
   "id": "71f3a7e7-ea7b-4d53-87cd-f22c83f4a359",
   "metadata": {},
   "outputs": [
    {
     "data": {
      "text/plain": [
       "matrix([[1., 1., 1., 1.],\n",
       "        [1., 1., 1., 1.],\n",
       "        [1., 1., 1., 1.]])"
      ]
     },
     "execution_count": 31,
     "metadata": {},
     "output_type": "execute_result"
    }
   ],
   "source": [
    "mt.ones((3, 4))"
   ]
  },
  {
   "cell_type": "code",
   "execution_count": 32,
   "id": "a3198a7d-db9d-4513-90a7-2f7f238f2a44",
   "metadata": {},
   "outputs": [
    {
     "data": {
      "text/plain": [
       "matrix([[1., 0., 0., 0., 0.],\n",
       "        [0., 1., 0., 0., 0.],\n",
       "        [0., 0., 1., 0., 0.],\n",
       "        [0., 0., 0., 1., 0.],\n",
       "        [0., 0., 0., 0., 1.]])"
      ]
     },
     "execution_count": 32,
     "metadata": {},
     "output_type": "execute_result"
    }
   ],
   "source": [
    "mt.eye(5)"
   ]
  },
  {
   "cell_type": "code",
   "execution_count": 33,
   "id": "039aff41-e147-4559-bf12-5b9f8df9e072",
   "metadata": {},
   "outputs": [],
   "source": [
    "arr1 = np.random.randint([[11, 30], [50, 100]], 1000)"
   ]
  },
  {
   "cell_type": "code",
   "execution_count": 34,
   "id": "1d654346-bdf7-4e0e-a0d7-e7864c242848",
   "metadata": {},
   "outputs": [
    {
     "data": {
      "text/plain": [
       "array([[ 46, 579],\n",
       "       [531, 542]])"
      ]
     },
     "execution_count": 34,
     "metadata": {},
     "output_type": "execute_result"
    }
   ],
   "source": [
    "arr1"
   ]
  },
  {
   "cell_type": "code",
   "execution_count": 35,
   "id": "abeadfa5-99ff-48d0-85ae-e186935aedff",
   "metadata": {},
   "outputs": [],
   "source": [
    "arr2 = np.random.randint([[11, 20], [100, 200]], [[100, 200], [1000, 2000]])"
   ]
  },
  {
   "cell_type": "code",
   "execution_count": 36,
   "id": "9a7f24d2-b2b5-442f-8982-c630a851514a",
   "metadata": {},
   "outputs": [
    {
     "data": {
      "text/plain": [
       "array([[  69,  174],\n",
       "       [ 503, 1356]])"
      ]
     },
     "execution_count": 36,
     "metadata": {},
     "output_type": "execute_result"
    }
   ],
   "source": [
    "arr2"
   ]
  },
  {
   "cell_type": "code",
   "execution_count": 37,
   "id": "a8b7e1d1-f8c4-4527-b9ce-b415262f138a",
   "metadata": {},
   "outputs": [
    {
     "data": {
      "text/plain": [
       "array([[294411, 793128],\n",
       "       [309265, 827346]])"
      ]
     },
     "execution_count": 37,
     "metadata": {},
     "output_type": "execute_result"
    }
   ],
   "source": [
    "np.dot(arr1,arr2)"
   ]
  },
  {
   "cell_type": "code",
   "execution_count": 38,
   "id": "df83b973-308d-45fe-a985-dfb7ca43791c",
   "metadata": {},
   "outputs": [
    {
     "data": {
      "text/plain": [
       "array([[294411, 793128],\n",
       "       [309265, 827346]])"
      ]
     },
     "execution_count": 38,
     "metadata": {},
     "output_type": "execute_result"
    }
   ],
   "source": [
    "arr1@arr2"
   ]
  }
 ],
 "metadata": {
  "kernelspec": {
   "display_name": "Python 3 (ipykernel)",
   "language": "python",
   "name": "python3"
  },
  "language_info": {
   "codemirror_mode": {
    "name": "ipython",
    "version": 3
   },
   "file_extension": ".py",
   "mimetype": "text/x-python",
   "name": "python",
   "nbconvert_exporter": "python",
   "pygments_lexer": "ipython3",
   "version": "3.12.5"
  }
 },
 "nbformat": 4,
 "nbformat_minor": 5
}
